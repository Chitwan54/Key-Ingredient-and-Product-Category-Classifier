{
  "nbformat": 4,
  "nbformat_minor": 0,
  "metadata": {
    "colab": {
      "name": "Mamaearth_Task",
      "provenance": [],
      "collapsed_sections": []
    },
    "kernelspec": {
      "name": "python3",
      "display_name": "Python 3"
    },
    "language_info": {
      "name": "python"
    }
  },
  "cells": [
    {
      "cell_type": "markdown",
      "metadata": {
        "id": "lan2ndKa5B01"
      },
      "source": [
        "Task 1:\n",
        "To kick things off you can start by scraping Mamaearth’s Beauty category:\n",
        "https://mamaearth.in/product-category/beauty\n",
        "Ideally you would want to scarpe the following basic data points:\n",
        "\n",
        "* Product Name\n",
        "* Product Link\n",
        "* Rating\n",
        "* Reviews\n",
        "* MRP\n",
        "* Pack Size\n",
        "* Discount/Offers running on the product\n",
        "\n",
        "We would like you to write a classification algorithm which can fetch the key ingredient used in the\n",
        "product and also classify the product based on its category. So, taking Mamaearth Onion Hair Oil as an\n",
        "example, the key ingredient here is Onion and the category is Hair Oil."
      ]
    },
    {
      "cell_type": "markdown",
      "metadata": {
        "id": "bBAJV2b0iY7u"
      },
      "source": [
        "# Web Scraping"
      ]
    },
    {
      "cell_type": "code",
      "metadata": {
        "colab": {
          "base_uri": "https://localhost:8080/"
        },
        "id": "QXCZebON5COF",
        "outputId": "90d26d3e-0cb2-4513-9aee-bc2076878a98"
      },
      "source": [
        "!pip install selenium"
      ],
      "execution_count": 1,
      "outputs": [
        {
          "output_type": "stream",
          "text": [
            "Requirement already satisfied: selenium in /usr/local/lib/python3.7/dist-packages (3.141.0)\n",
            "Requirement already satisfied: urllib3 in /usr/local/lib/python3.7/dist-packages (from selenium) (1.24.3)\n"
          ],
          "name": "stdout"
        }
      ]
    },
    {
      "cell_type": "code",
      "metadata": {
        "colab": {
          "base_uri": "https://localhost:8080/"
        },
        "id": "Q1qAYB7iDubK",
        "outputId": "44f8272a-d95b-43a4-d02d-9848f79b828a"
      },
      "source": [
        "!apt-get update # to update ubuntu to correctly run apt install\n",
        "!apt install chromium-chromedriver\n",
        "!cp /usr/lib/chromium-browser/chromedriver /usr/bin\n",
        "import sys\n",
        "sys.path.insert(0,'/usr/lib/chromium-browser/chromedriver')\n",
        "from selenium import webdriver\n",
        "chrome_options = webdriver.ChromeOptions()\n",
        "chrome_options.add_argument('--headless')\n",
        "chrome_options.add_argument('--no-sandbox')\n",
        "chrome_options.add_argument('--disable-dev-shm-usage')"
      ],
      "execution_count": 2,
      "outputs": [
        {
          "output_type": "stream",
          "text": [
            "\r0% [Working]\r            \rHit:1 https://cloud.r-project.org/bin/linux/ubuntu bionic-cran40/ InRelease\n",
            "\r0% [Connecting to archive.ubuntu.com] [Connecting to security.ubuntu.com (91.18\r                                                                               \rIgn:2 https://developer.download.nvidia.com/compute/cuda/repos/ubuntu1804/x86_64  InRelease\n",
            "\r0% [Connecting to archive.ubuntu.com] [Connecting to security.ubuntu.com (91.18\r0% [1 InRelease gpgv 3,626 B] [Connecting to archive.ubuntu.com] [Connecting to\r                                                                               \rIgn:3 https://developer.download.nvidia.com/compute/machine-learning/repos/ubuntu1804/x86_64  InRelease\n",
            "\r0% [1 InRelease gpgv 3,626 B] [Connecting to archive.ubuntu.com] [Connecting to\r                                                                               \rHit:4 https://developer.download.nvidia.com/compute/cuda/repos/ubuntu1804/x86_64  Release\n",
            "\r0% [1 InRelease gpgv 3,626 B] [Connecting to archive.ubuntu.com (91.189.88.142)\r                                                                               \rHit:5 https://developer.download.nvidia.com/compute/machine-learning/repos/ubuntu1804/x86_64  Release\n",
            "Hit:6 http://security.ubuntu.com/ubuntu bionic-security InRelease\n",
            "Hit:7 http://archive.ubuntu.com/ubuntu bionic InRelease\n",
            "Hit:9 http://archive.ubuntu.com/ubuntu bionic-updates InRelease\n",
            "Hit:10 http://ppa.launchpad.net/c2d4u.team/c2d4u4.0+/ubuntu bionic InRelease\n",
            "Hit:11 http://archive.ubuntu.com/ubuntu bionic-backports InRelease\n",
            "Hit:13 http://ppa.launchpad.net/cran/libgit2/ubuntu bionic InRelease\n",
            "Hit:14 http://ppa.launchpad.net/deadsnakes/ppa/ubuntu bionic InRelease\n",
            "Hit:15 http://ppa.launchpad.net/graphics-drivers/ppa/ubuntu bionic InRelease\n",
            "Reading package lists... Done\n",
            "Reading package lists... Done\n",
            "Building dependency tree       \n",
            "Reading state information... Done\n",
            "chromium-chromedriver is already the newest version (91.0.4472.101-0ubuntu0.18.04.1).\n",
            "0 upgraded, 0 newly installed, 0 to remove and 45 not upgraded.\n",
            "cp: '/usr/lib/chromium-browser/chromedriver' and '/usr/bin/chromedriver' are the same file\n"
          ],
          "name": "stdout"
        }
      ]
    },
    {
      "cell_type": "code",
      "metadata": {
        "colab": {
          "base_uri": "https://localhost:8080/"
        },
        "id": "6DZ9SpUOr_9Q",
        "outputId": "885028a0-029b-4f88-a6fb-f9369618f6f7"
      },
      "source": [
        "\n",
        "# Python Script for Webscraping\n",
        "\n",
        "# Setting up Selenium Webdriver\n",
        "\n",
        "from selenium import webdriver as wb\n",
        "webD = wb.Chrome('chromedriver', chrome_options=chrome_options)\n",
        "\n",
        "# BASE_URL for extracting titles and links\n",
        "BASE_URL = \"https://mamaearth.in/product-category/beauty\"\n",
        "\n",
        "# Make the 'get' request on the BASE_URL\n",
        "webD.get(BASE_URL)\n",
        "\n",
        "\n",
        "'''\n",
        "We need to scarpe the following things:\n",
        "1. Title\n",
        "2. Product Link\n",
        "3. Ratings\n",
        "4. Reviews\n",
        "5. MRP\n",
        "6. Pack Size\n",
        "7. Discount/Offers running on the product\n",
        "'''\n",
        "'''\n",
        "# 1. Title\n",
        "\n",
        "title_tag_name = 'section' # Create a list/tuple in case of multiple tag_names\n",
        "title_class_name = 'title'\n",
        "\n",
        "def scrape_title(title_tag_name, title_class_name):\n",
        "\n",
        "  #titles_response = webD.find_elements_by_tag_name('section')[1].find_elements_by_class_name('title')\n",
        "\n",
        "  # Get the title response variable\n",
        "  title_response = webD.find_elements_by_tag_name(title_tag_name)[1].find_elements_by_class_name(title_class_name)\n",
        "\n",
        "  # Get the title text from the title_response variable\n",
        "  title_text = [title.text for title in title_response]\n",
        "\n",
        "  return title_text\n",
        "'''\n",
        "# 1. Product Link\n",
        "\n",
        "link_tag_name = ['section', 'a']\n",
        "\n",
        "def scrape_product_link(link_tag_name):\n",
        "\n",
        "  # Get the link response list\n",
        "  link_response = webD.find_elements_by_tag_name(link_tag_name[0])[1].find_elements_by_tag_name(link_tag_name[1])\n",
        "  # Create a list to store the links\n",
        "  link_text = []\n",
        "  for i, link in enumerate(link_response): #--> Iterating over each response variable\n",
        "      link_text.append(link_response[i].get_property('href')) # 'href' attribute contains the links\n",
        "\n",
        "  link_text_unique = list(set(link_text))\n",
        "  return link_text_unique\n",
        "\n",
        "# 2. Title\n",
        "title_tag_name = 'h1'\n",
        "\n",
        "def scrape_title(title_tag_name):\n",
        "\n",
        "  # list for storing title\n",
        "  titles = []\n",
        "\n",
        "  # Call the product link\n",
        "  product_links = scrape_product_link(link_tag_name)\n",
        "\n",
        "  # Iterate over each product link\n",
        "  for link in product_links:\n",
        "    \n",
        "    # make the get request\n",
        "    webD.get(link)\n",
        "\n",
        "    title = webD.find_elements_by_tag_name(title_tag_name)[0].text\n",
        "    titles.append(title)\n",
        "  \n",
        "  return titles\n",
        "\n",
        "# Ratings, Reviews, MRP, Discount\n",
        "\n",
        "css_selector = '[href^=\"#review-list\"]' #--> CSS selector for getting the ratings\n",
        "review_class = 'ReviewItem_content' #--> review_class for getting reviews\n",
        "price_class_1 = 'price' #--> price_class for getting price\n",
        "price_class_2 = 'slashed price'\n",
        "price_class_3 = 'price__discount'\n",
        "\n",
        "def scrape_ratings_reviews_mrp_discount(css_selector, review_class, price_class_1, price_class_2, price_class_3, prod_links):\n",
        "\n",
        "  # Create lists to store the scraped data\n",
        "  ratings = []\n",
        "  reviews = []\n",
        "  mrp = []\n",
        "  discounts = []\n",
        "\n",
        "  # Get the link_text using the scrape_product_link\n",
        "  product_links = prod_links\n",
        "\n",
        "  # Iterate over each product_link, make the get request\n",
        "  for i, link in enumerate(product_links):\n",
        "    \n",
        "    # make a get request\n",
        "    webD.get(link)\n",
        "\n",
        "    # 3. Extract ratings\n",
        "    # Rating respomse list\n",
        "    rating_response = webD.find_elements_by_css_selector(css_selector)\n",
        "\n",
        "    if len(rating_response) != 0 :\n",
        "      rating = webD.find_elements_by_css_selector(css_selector)[0].text # Rating for ith product\n",
        "    else:\n",
        "      rating = str(0.0)\n",
        "    ratings.append(rating) # append the rating\n",
        "\n",
        "\n",
        "    # 4. Extract Reviews\n",
        "    # review response variable list\n",
        "    review_response = webD.find_elements_by_class_name(review_class)\n",
        "\n",
        "    # Reviews will be a list of list because a product can have multiple reviews as well\n",
        "    review = [rev.text for rev in review_response]\n",
        "\n",
        "    # append the review in the reviews list\n",
        "    reviews.append(review)\n",
        "\n",
        "    # 5. MRP\n",
        "\n",
        "    price_response_1 = webD.find_elements_by_class_name(price_class_1) \n",
        "    price_response_2 = webD.find_elements_by_class_name(price_class_2)\n",
        "    price_response_3 = webD.find_elements_by_class_name(price_class_3)\n",
        "\n",
        "    # Check which repsonse variable is not empty\n",
        "    if len(price_response_1) != 0:\n",
        "      price = price_response_1[0].text\n",
        "    else:\n",
        "      price = price_response_2[0].text\n",
        "    mrp.append(price)\n",
        "\n",
        "    # 6. Discount\n",
        "    \n",
        "    # Note: Not all product will be having discount\n",
        "    if len(price_response_3) != 0:\n",
        "      discount = price_response_3[0].text\n",
        "    else:\n",
        "      discount = 0.0\n",
        "    discounts.append(discount)\n",
        "\n",
        "  # Return the scraped data\n",
        "  return ratings, reviews, mrp, discounts"
      ],
      "execution_count": 3,
      "outputs": [
        {
          "output_type": "stream",
          "text": [
            "/usr/local/lib/python3.7/dist-packages/ipykernel_launcher.py:7: DeprecationWarning: use options instead of chrome_options\n",
            "  import sys\n"
          ],
          "name": "stderr"
        }
      ]
    },
    {
      "cell_type": "code",
      "metadata": {
        "id": "E5uRLU0r20ru"
      },
      "source": [
        "# 2. Product Links\n",
        "links = scrape_product_link(link_tag_name)"
      ],
      "execution_count": 4,
      "outputs": []
    },
    {
      "cell_type": "code",
      "metadata": {
        "id": "No4RtfWaNvnq"
      },
      "source": [
        "# 7. Scrape Product Description\n",
        "\n",
        "desc_xpath1 = '//*[@id=\"__next\"]/div[2]/div[1]/div[3]/div[2]/div/div[5]' # Xpath for Description\n",
        "desc_xpath2 = '//*[@id=\"__next\"]/div[2]/div[1]/div[2]/div[2]/div/div[5]' #---> Bottleneck\n",
        "prod_links = links # Links for the product\n",
        "\n",
        "def scrape_description(xpath1, xpath2, prod_links):\n",
        "\n",
        "  # list to store the description of the product\n",
        "  descriptions = []\n",
        "\n",
        "  # Iterate over each link\n",
        "  for link in prod_links:\n",
        "\n",
        "    # make a get request\n",
        "    webD.get(link)\n",
        "\n",
        "    # create the description repsonse list\n",
        "    desc_response1 = webD.find_elements_by_xpath(xpath1)\n",
        "    desc_response2 = webD.find_elements_by_xpath(xpath2)\n",
        "    if len(desc_response1) != 0 :\n",
        "      desc = desc_response1[0].text # Product Description\n",
        "    elif len(desc_response2) != 0:\n",
        "      desc = desc_response2[0].text # Product description\n",
        "    else:\n",
        "      desc = \"No Description Provided\"\n",
        "\n",
        "    # Append the product description to the descriptions list\n",
        "    descriptions.append(desc)\n",
        "  \n",
        "  return descriptions\n",
        "\n",
        "# 8. Scrape the Ingredients\n",
        "\n",
        "ing_xpath_1 = '//*[@id=\"__next\"]/div[2]/div[1]/div[4]/div[2]/div/ul' # //*[@id=\"__next\"]/div[2]/div[1]/div[3]/div[2]/div/ul\n",
        "def scrape_key_ingredients(ing_xpath_1, prod_links):\n",
        "\n",
        "  # list to store the key ingredients\n",
        "  key_ingredients = []\n",
        "\n",
        "  # Iterate over each product link\n",
        "  for link in prod_links:\n",
        "\n",
        "    # make a get request\n",
        "    webD.get(link)\n",
        "\n",
        "  \n",
        "    # create an ingredients response list\n",
        "    ing_response_1 = webD.find_elements_by_xpath(ing_xpath_1)\n",
        "    if len(ing_response_1) != 0:\n",
        "      key_ing = ing_response_1[0].text.partition(':')[0] # Key ingredient\n",
        "    else:\n",
        "      key_ing = 'No Ingrdient Provided'\n",
        "\n",
        "    # Append the key_ing in the key_ingredients list\n",
        "    key_ingredients.append(key_ing)\n",
        "\n",
        "  return key_ingredients"
      ],
      "execution_count": 5,
      "outputs": []
    },
    {
      "cell_type": "code",
      "metadata": {
        "id": "0w94xKpa9WNC"
      },
      "source": [
        "# 1. Title\n",
        "titles = scrape_title(title_tag_name)"
      ],
      "execution_count": 6,
      "outputs": []
    },
    {
      "cell_type": "code",
      "metadata": {
        "id": "I-U89F2w5QiH"
      },
      "source": [
        "# 3. Ratings, Reviews, MRP, Discounts\n",
        "ratings, reviews, mrp, discounts = scrape_ratings_reviews_mrp_discount(css_selector, review_class, price_class_1, price_class_2, price_class_3, links)\n",
        "\n",
        "# 4. Descriptions\n",
        "descriptions = scrape_description(xpath1 = desc_xpath1, xpath2 = desc_xpath2, prod_links=prod_links)"
      ],
      "execution_count": null,
      "outputs": []
    },
    {
      "cell_type": "code",
      "metadata": {
        "id": "dCry3qTxmtEA"
      },
      "source": [
        "# 5. Key Ingredients\n",
        "key_ingredients = scrape_key_ingredients(ing_xpath_1=ing_xpath_1, prod_links=prod_links)"
      ],
      "execution_count": 8,
      "outputs": []
    },
    {
      "cell_type": "code",
      "metadata": {
        "id": "xKMF5zwbnNU5"
      },
      "source": [
        "key_ingredients[42] = 'Carrot Seed Oil'"
      ],
      "execution_count": 17,
      "outputs": []
    },
    {
      "cell_type": "markdown",
      "metadata": {
        "id": "obf3NphbimQD"
      },
      "source": [
        "# Data Preparation"
      ]
    },
    {
      "cell_type": "code",
      "metadata": {
        "colab": {
          "base_uri": "https://localhost:8080/",
          "height": 289
        },
        "id": "_wlW_lWcKoGf",
        "outputId": "ad2f5d9b-dd21-4496-cba7-6940bd5dffab"
      },
      "source": [
        "import pandas as pd\n",
        "\n",
        "# Create a function to create a pandas dataframe\n",
        "def create_dataframe():\n",
        "  data = pd.DataFrame({'Title' : titles, 'Product_Link' : links, 'Ratings' : ratings, 'Reviews' : reviews, 'MRP' : mrp, 'Discounts' : discounts, 'Description' : descriptions, 'Key_Ingredients' : key_ingredients})\n",
        "  return data\n",
        "\n",
        "# Call the above function and create a DatFrame\n",
        "mamaearth_data = create_dataframe()\n",
        "mamaearth_data.head()"
      ],
      "execution_count": 19,
      "outputs": [
        {
          "output_type": "execute_result",
          "data": {
            "text/html": [
              "<div>\n",
              "<style scoped>\n",
              "    .dataframe tbody tr th:only-of-type {\n",
              "        vertical-align: middle;\n",
              "    }\n",
              "\n",
              "    .dataframe tbody tr th {\n",
              "        vertical-align: top;\n",
              "    }\n",
              "\n",
              "    .dataframe thead th {\n",
              "        text-align: right;\n",
              "    }\n",
              "</style>\n",
              "<table border=\"1\" class=\"dataframe\">\n",
              "  <thead>\n",
              "    <tr style=\"text-align: right;\">\n",
              "      <th></th>\n",
              "      <th>Title</th>\n",
              "      <th>Product_Link</th>\n",
              "      <th>Ratings</th>\n",
              "      <th>Reviews</th>\n",
              "      <th>MRP</th>\n",
              "      <th>Discounts</th>\n",
              "      <th>Description</th>\n",
              "      <th>Key_Ingredients</th>\n",
              "    </tr>\n",
              "  </thead>\n",
              "  <tbody>\n",
              "    <tr>\n",
              "      <th>0</th>\n",
              "      <td>Tea Tree Facewash for acne and pimples, Pack O...</td>\n",
              "      <td>https://mamaearth.in/product/tea-tree-facewash...</td>\n",
              "      <td>5.0\\n★</td>\n",
              "      <td>[It's amazing product..I have no words to prai...</td>\n",
              "      <td>₹489.00</td>\n",
              "      <td>(2% off)</td>\n",
              "      <td>Mamaearth’s SLS and Paraben Free Tea Tree Face...</td>\n",
              "      <td>Neem</td>\n",
              "    </tr>\n",
              "    <tr>\n",
              "      <th>1</th>\n",
              "      <td>Vitamin C Clear Skin Combo - 200 ml</td>\n",
              "      <td>https://mamaearth.in/product/vitamin-c-clear-s...</td>\n",
              "      <td>5.0\\n★</td>\n",
              "      <td>[I liked both products used today refreshing c...</td>\n",
              "      <td>₹739.00</td>\n",
              "      <td>(1% off)</td>\n",
              "      <td>Hurry! Only 18 Units Left in Stock!</td>\n",
              "      <td>Vitamin C</td>\n",
              "    </tr>\n",
              "    <tr>\n",
              "      <th>2</th>\n",
              "      <td>Argan Conditioner with Argan &amp; Apple Cider Vin...</td>\n",
              "      <td>https://mamaearth.in/product/argan-conditioner...</td>\n",
              "      <td>4.9\\n★</td>\n",
              "      <td>[I like this product, This is the argan condit...</td>\n",
              "      <td>₹349.00</td>\n",
              "      <td>0</td>\n",
              "      <td>When it comes to taming frizzy hair, there are...</td>\n",
              "      <td>Argan Oil</td>\n",
              "    </tr>\n",
              "    <tr>\n",
              "      <th>3</th>\n",
              "      <td>Retinol Face Serum</td>\n",
              "      <td>https://mamaearth.in/product/mamaearth-retinol...</td>\n",
              "      <td>4.9\\n★</td>\n",
              "      <td>[Excellent product, very effective....., serum...</td>\n",
              "      <td>₹799.00</td>\n",
              "      <td>0</td>\n",
              "      <td>Hurry! Only 18 Units Left in Stock!</td>\n",
              "      <td>Retinol</td>\n",
              "    </tr>\n",
              "    <tr>\n",
              "      <th>4</th>\n",
              "      <td>Onion Hair Oil for Hair Regrowth &amp; Hair Fall C...</td>\n",
              "      <td>https://mamaearth.in/product/onion-hair-oil-fo...</td>\n",
              "      <td>4.9\\n★</td>\n",
              "      <td>[Very goooooood, Good, Good]</td>\n",
              "      <td>₹599.00</td>\n",
              "      <td>0</td>\n",
              "      <td>Hurry! Only 16 Units Left in Stock!</td>\n",
              "      <td>Onion Seed Oil</td>\n",
              "    </tr>\n",
              "  </tbody>\n",
              "</table>\n",
              "</div>"
            ],
            "text/plain": [
              "                                               Title  ...  Key_Ingredients\n",
              "0  Tea Tree Facewash for acne and pimples, Pack O...  ...            Neem \n",
              "1                Vitamin C Clear Skin Combo - 200 ml  ...        Vitamin C\n",
              "2  Argan Conditioner with Argan & Apple Cider Vin...  ...       Argan Oil \n",
              "3                                 Retinol Face Serum  ...          Retinol\n",
              "4  Onion Hair Oil for Hair Regrowth & Hair Fall C...  ...  Onion Seed Oil \n",
              "\n",
              "[5 rows x 8 columns]"
            ]
          },
          "metadata": {
            "tags": []
          },
          "execution_count": 19
        }
      ]
    },
    {
      "cell_type": "code",
      "metadata": {
        "colab": {
          "base_uri": "https://localhost:8080/"
        },
        "id": "gQsf8wcWnZ3C",
        "outputId": "20625549-ebd0-4308-ce7a-217a60c0a2d3"
      },
      "source": [
        "''' \n",
        "Next we can observe, some values in the key ingredients column has 'No Ingrdient Provided' value, \n",
        "this means that we were not able to fetch data with the current xpath. Hence, we will use some other xpath to fetch this data.\n",
        "This can be considered one of the corner cases.\n",
        "'''\n",
        "from selenium.common.exceptions import NoSuchElementException\n",
        "no_ing_data_idx = mamaearth_data[mamaearth_data['Key_Ingredients'] == 'No Ingrdient Provided'].index # index of those rows having 'No Ingredient'Provided\n",
        "no_ing_data = mamaearth_data[mamaearth_data['Key_Ingredients'] == 'No Ingrdient Provided']['Product_Link']  # Product links for the products\n",
        "xpath_2 = '/html/body/div[1]/div[2]/div[1]/div[3]/div[2]/div/ul/li[1]/span/strong' # New xpath\n",
        "xpath_3 = '//*[@id=\"__next\"]/div[2]/div[1]/div[3]/div[2]/div/ul/li[1]/p/strong' # for further bottlenecks\n",
        "xpath_4 = '//*[@id=\"__next\"]/div[2]/div[1]/div[4]/div[2]/div/div/ul[1]/li[1]/span/strong' # another corner case\n",
        "\n",
        "key_ingredients_2 = [] # List to store the key ingredients\n",
        "for link in no_ing_data:\n",
        "  print(link)\n",
        "  webD.get(link)\n",
        "  try:\n",
        "    key_ing_2 = webD.find_element_by_xpath(xpath_2).text.partition(':')[0]\n",
        "  except NoSuchElementException:\n",
        "    try:\n",
        "      key_ing_2 = webD.find_element_by_xpath(xpath_3).text.partition(':')[0]\n",
        "    except:\n",
        "      key_ing_2 = webD.find_element_by_xpath(xpath_4).text.partition(':')[0]\n",
        "  key_ingredients_2.append(key_ing_2)"
      ],
      "execution_count": 68,
      "outputs": [
        {
          "output_type": "stream",
          "text": [
            "https://mamaearth.in/product/buy-epsom-salt-online\n",
            "https://mamaearth.in/product/oil-free-face-moisturizer-with-apple-cider-vinegar-for-acne-prone-skin\n",
            "https://mamaearth.in/product/mamaearths-ultra-light-indian-sunscreen\n",
            "https://mamaearth.in/product/stretch-marks-removal-cream\n",
            "https://mamaearth.in/product/rice-water-hair-mask-with-rice-water-keratin-for-smoothening-hair-damage-repair-200-g\n",
            "https://mamaearth.in/product/damage-repair-kit\n",
            "https://mamaearth.in/product/vitamin-c-oil-free-moisturizer-for-face-with-vitamin-c-gotu-kola-for-skin-illumination-80-ml\n",
            "https://mamaearth.in/product/vitamin-c-face-scrub-for-glowing-skin-with-vitamin-c-and-walnut-for-skin-illumination-100-g\n",
            "https://mamaearth.in/product/vitamin-c-night-cream-for-women-with-vitamin-c-gotu-kola-for-skin-illumination-50g\n",
            "https://mamaearth.in/product/natural-nip-care-cream\n",
            "https://mamaearth.in/product/ubtan-face-mask-for-skin-lightening-brightening\n",
            "https://mamaearth.in/product/buy-hair-growth-tonic\n",
            "https://mamaearth.in/product/mamaearth-onion-conditioner-for-hair-growth-hair-fall-control-with-onion-coconut-250ml\n",
            "https://mamaearth.in/product/apple-cider-vinegar-hair-mask-with-organic-apple-cider-vinegar-biotin-for-long-shiny-hair-200-g\n",
            "https://mamaearth.in/product/ubtan-body-wash-with-turmeric-saffron-for-glowing-skin-pack-of-2\n",
            "https://mamaearth.in/product/hair-regrowth-combo-onion-shampoo-onion-conditioner\n",
            "https://mamaearth.in/product/ubtan-face-scrub-ubtan-face-wash\n",
            "https://mamaearth.in/product/aqua-glow-face-wash-with-himalayan-thermal-water-and-hyaluronic-acid-for-intense-hydration-100ml\n",
            "https://mamaearth.in/product/vitamin-c-glowing-skin-combo\n"
          ],
          "name": "stdout"
        }
      ]
    },
    {
      "cell_type": "code",
      "metadata": {
        "id": "UHcgmwZP_ub7"
      },
      "source": [
        "for i, idx in enumerate(no_ing_data_idx):\n",
        "  mamaearth_data['Key_Ingredients'].loc[idx] = key_ingredients_2[i]"
      ],
      "execution_count": 87,
      "outputs": []
    },
    {
      "cell_type": "code",
      "metadata": {
        "id": "zUB-n1Wkrs33"
      },
      "source": [
        "# Preprocessing data\n",
        "\n",
        "import re # Regular Expressions for preprocessing text data\n",
        "import numpy as np # Numpy aur computations\n",
        "\n",
        "def pack_size_cleaner(x):\n",
        "  # Extract numbers and alphabets eg. 90 ml, 100 g\n",
        "  if ' ' in x:\n",
        "    x = x.replace(' ', '') # Remove the space 90 ml --> 90ml \n",
        "  return re.findall('[0-9 a-z A-Z]+', x)\n",
        "\n",
        "def preprocess_ratings(x):\n",
        "  #Convert the ratings into float\n",
        "  try: \n",
        "    x = np.float(x)\n",
        "  except:\n",
        "    x = np.nan #--> If not possible replace the value with NaN\n",
        "  return x\n",
        "\n",
        "def preprocess_mrp(x):\n",
        "  # Convert the MRP into float\n",
        "  if ',' in x:\n",
        "    x = x.replace(',', '')\n",
        "  return np.float(x[1:]) \n",
        "\n",
        "def preprocess_discounts(x):\n",
        "  # Extract the discounts\n",
        "  x = str(x)\n",
        "  return re.findall(r'\\b\\d+\\b', x)\n",
        "\n",
        "def preprocess_key_ingredients(x):\n",
        "  return \" \".join(re.findall('[a-zA-Z]+', x))\n",
        "\n",
        "# Create a product category feature\n",
        "\n",
        "'''A list of common product categories is created after observing the products from the webpage. Rest those products which occur less frequently\n",
        "   are clubbed into Misc (Miscellaneous) category. The reason for this kind of classification is simple, those products which are occuring only \n",
        "   once or twice should not be given a unique category, this will lead to too many classes and less data for less frequently occuring classes will\n",
        "   lead to a poor classification model.'''\n",
        "\n",
        "categories = ['Hair Oil', 'Shampoo', 'Conditioner', 'Mask', 'Serum', 'Face Wash', 'Body Wash', 'Body Lotion', 'Combo', 'Kit']\n",
        "\n",
        "def product_category(categories, x):\n",
        "\n",
        "  # Iterate over each category and check whether it is present in x or not\n",
        "  for cat in categories:\n",
        "    if cat in x:\n",
        "      x = cat\n",
        "    elif 'Facewash' in x: #--> Corner Case\n",
        "      x = 'Face Wash'\n",
        "  if len(x) > 20:\n",
        "    x = 'Misc'\n",
        "  return x"
      ],
      "execution_count": 90,
      "outputs": []
    },
    {
      "cell_type": "code",
      "metadata": {
        "id": "HtU97KgjkAdX"
      },
      "source": [
        "# Preprocess the Numerical Features using the above functions\n",
        "mamaearth_data['Pack_Size'] = mamaearth_data['Title'].apply(lambda x : x[-6:] if ((x[-2:] in 'ml') or (x[-1] in 'g')) else \"Size Not Mentioned\")\n",
        "mamaearth_data['Pack_Size'] = mamaearth_data['Pack_Size'].apply(lambda x : pack_size_cleaner(x)[0])\n",
        "mamaearth_data[\"Ratings\"] = mamaearth_data[\"Ratings\"].apply(lambda x : x[ : 3])\n",
        "mamaearth_data['Ratings'] = mamaearth_data['Ratings'].apply(lambda x : preprocess_ratings(x))\n",
        "mamaearth_data['MRP'] = mamaearth_data['MRP'].apply(lambda x : preprocess_mrp(x))\n",
        "mamaearth_data['Discounts'] = mamaearth_data['Discounts'].apply(lambda x: float(preprocess_discounts(x)[0]))\n",
        "mamaearth_data['Key_Ingredients'] = mamaearth_data['Key_Ingredients'].apply(lambda x : preprocess_key_ingredients(x))\n",
        "mamaearth_data['Product_Category'] = mamaearth_data['Title'].apply(lambda x : product_category(categories, x))"
      ],
      "execution_count": 91,
      "outputs": []
    },
    {
      "cell_type": "code",
      "metadata": {
        "colab": {
          "base_uri": "https://localhost:8080/",
          "height": 1000
        },
        "id": "DkkDod9og6VD",
        "outputId": "f9b92ddf-bdb7-4ada-ef2c-2b1003a0eb43"
      },
      "source": [
        "mamaearth_data"
      ],
      "execution_count": 92,
      "outputs": [
        {
          "output_type": "execute_result",
          "data": {
            "text/html": [
              "<div>\n",
              "<style scoped>\n",
              "    .dataframe tbody tr th:only-of-type {\n",
              "        vertical-align: middle;\n",
              "    }\n",
              "\n",
              "    .dataframe tbody tr th {\n",
              "        vertical-align: top;\n",
              "    }\n",
              "\n",
              "    .dataframe thead th {\n",
              "        text-align: right;\n",
              "    }\n",
              "</style>\n",
              "<table border=\"1\" class=\"dataframe\">\n",
              "  <thead>\n",
              "    <tr style=\"text-align: right;\">\n",
              "      <th></th>\n",
              "      <th>Title</th>\n",
              "      <th>Product_Link</th>\n",
              "      <th>Ratings</th>\n",
              "      <th>Reviews</th>\n",
              "      <th>MRP</th>\n",
              "      <th>Discounts</th>\n",
              "      <th>Description</th>\n",
              "      <th>Key_Ingredients</th>\n",
              "      <th>Pack_Size</th>\n",
              "      <th>Product_Category</th>\n",
              "    </tr>\n",
              "  </thead>\n",
              "  <tbody>\n",
              "    <tr>\n",
              "      <th>0</th>\n",
              "      <td>Tea Tree Facewash for acne and pimples, Pack O...</td>\n",
              "      <td>https://mamaearth.in/product/tea-tree-facewash...</td>\n",
              "      <td>5.0</td>\n",
              "      <td>[It's amazing product..I have no words to prai...</td>\n",
              "      <td>489.0</td>\n",
              "      <td>2.0</td>\n",
              "      <td>Mamaearth’s SLS and Paraben Free Tea Tree Face...</td>\n",
              "      <td>Neem</td>\n",
              "      <td>SizeNotMentioned</td>\n",
              "      <td>Face Wash</td>\n",
              "    </tr>\n",
              "    <tr>\n",
              "      <th>1</th>\n",
              "      <td>Vitamin C Clear Skin Combo - 200 ml</td>\n",
              "      <td>https://mamaearth.in/product/vitamin-c-clear-s...</td>\n",
              "      <td>5.0</td>\n",
              "      <td>[I liked both products used today refreshing c...</td>\n",
              "      <td>739.0</td>\n",
              "      <td>1.0</td>\n",
              "      <td>Hurry! Only 18 Units Left in Stock!</td>\n",
              "      <td>Vitamin C</td>\n",
              "      <td>200ml</td>\n",
              "      <td>Combo</td>\n",
              "    </tr>\n",
              "    <tr>\n",
              "      <th>2</th>\n",
              "      <td>Argan Conditioner with Argan &amp; Apple Cider Vin...</td>\n",
              "      <td>https://mamaearth.in/product/argan-conditioner...</td>\n",
              "      <td>4.9</td>\n",
              "      <td>[I like this product, This is the argan condit...</td>\n",
              "      <td>349.0</td>\n",
              "      <td>0.0</td>\n",
              "      <td>When it comes to taming frizzy hair, there are...</td>\n",
              "      <td>Argan Oil</td>\n",
              "      <td>250ml</td>\n",
              "      <td>Conditioner</td>\n",
              "    </tr>\n",
              "    <tr>\n",
              "      <th>3</th>\n",
              "      <td>Retinol Face Serum</td>\n",
              "      <td>https://mamaearth.in/product/mamaearth-retinol...</td>\n",
              "      <td>4.9</td>\n",
              "      <td>[Excellent product, very effective....., serum...</td>\n",
              "      <td>799.0</td>\n",
              "      <td>0.0</td>\n",
              "      <td>Hurry! Only 18 Units Left in Stock!</td>\n",
              "      <td>Retinol</td>\n",
              "      <td>SizeNotMentioned</td>\n",
              "      <td>Serum</td>\n",
              "    </tr>\n",
              "    <tr>\n",
              "      <th>4</th>\n",
              "      <td>Onion Hair Oil for Hair Regrowth &amp; Hair Fall C...</td>\n",
              "      <td>https://mamaearth.in/product/onion-hair-oil-fo...</td>\n",
              "      <td>4.9</td>\n",
              "      <td>[Very goooooood, Good, Good]</td>\n",
              "      <td>599.0</td>\n",
              "      <td>0.0</td>\n",
              "      <td>Hurry! Only 16 Units Left in Stock!</td>\n",
              "      <td>Onion Seed Oil</td>\n",
              "      <td>250ml</td>\n",
              "      <td>Hair Oil</td>\n",
              "    </tr>\n",
              "    <tr>\n",
              "      <th>...</th>\n",
              "      <td>...</td>\n",
              "      <td>...</td>\n",
              "      <td>...</td>\n",
              "      <td>...</td>\n",
              "      <td>...</td>\n",
              "      <td>...</td>\n",
              "      <td>...</td>\n",
              "      <td>...</td>\n",
              "      <td>...</td>\n",
              "      <td>...</td>\n",
              "    </tr>\n",
              "    <tr>\n",
              "      <th>165</th>\n",
              "      <td>Onion Shampoo and Onion Hair Serum Combo</td>\n",
              "      <td>https://mamaearth.in/product/onion-shampoo-oni...</td>\n",
              "      <td>4.0</td>\n",
              "      <td>[I love this products, Nice, Very good product]</td>\n",
              "      <td>639.0</td>\n",
              "      <td>1.0</td>\n",
              "      <td>Beat hair fall with the goodness of Onion. Sta...</td>\n",
              "      <td>Red Onion</td>\n",
              "      <td>SizeNotMentioned</td>\n",
              "      <td>Shampoo</td>\n",
              "    </tr>\n",
              "    <tr>\n",
              "      <th>166</th>\n",
              "      <td>Onion Shampoo for Hair Growth and Hair Fall Co...</td>\n",
              "      <td>https://mamaearth.in/product/onion-shampoo-for...</td>\n",
              "      <td>5.0</td>\n",
              "      <td>[I like this product. It stopped hairfall and ...</td>\n",
              "      <td>559.0</td>\n",
              "      <td>0.0</td>\n",
              "      <td>Hurry! Only 16 Units Left in Stock!</td>\n",
              "      <td>Onion Seed Oil</td>\n",
              "      <td>400ml</td>\n",
              "      <td>Shampoo</td>\n",
              "    </tr>\n",
              "    <tr>\n",
              "      <th>167</th>\n",
              "      <td>Vitamin C Glowing Skin Combo</td>\n",
              "      <td>https://mamaearth.in/product/vitamin-c-glowing...</td>\n",
              "      <td>5.0</td>\n",
              "      <td>[I loved the combo.. i m using mamaearth for t...</td>\n",
              "      <td>639.0</td>\n",
              "      <td>1.0</td>\n",
              "      <td>It’s time to be a glow getter with the goodnes...</td>\n",
              "      <td>Vitamin C</td>\n",
              "      <td>SizeNotMentioned</td>\n",
              "      <td>Combo</td>\n",
              "    </tr>\n",
              "    <tr>\n",
              "      <th>168</th>\n",
              "      <td>Anti-Pollution Daily Face Cream, for Dry and O...</td>\n",
              "      <td>https://mamaearth.in/product/anti-pollution-da...</td>\n",
              "      <td>4.9</td>\n",
              "      <td>[I like mamaearth, foaming face wash &amp;anti-pol...</td>\n",
              "      <td>349.0</td>\n",
              "      <td>0.0</td>\n",
              "      <td>Even though atmospheric pollution leaves a del...</td>\n",
              "      <td>Turmeric</td>\n",
              "      <td>80ml</td>\n",
              "      <td>Misc</td>\n",
              "    </tr>\n",
              "    <tr>\n",
              "      <th>169</th>\n",
              "      <td>Tea Tree Face Wash and Charcoal Face Wash Combo</td>\n",
              "      <td>https://mamaearth.in/product/tea-tree-face-was...</td>\n",
              "      <td>5.0</td>\n",
              "      <td>[I am writing this review after using it for a...</td>\n",
              "      <td>489.0</td>\n",
              "      <td>2.0</td>\n",
              "      <td>Mamaearth’s SLS and Paraben Free Tea Tree Face...</td>\n",
              "      <td>Neem</td>\n",
              "      <td>SizeNotMentioned</td>\n",
              "      <td>Face Wash</td>\n",
              "    </tr>\n",
              "  </tbody>\n",
              "</table>\n",
              "<p>170 rows × 10 columns</p>\n",
              "</div>"
            ],
            "text/plain": [
              "                                                 Title  ... Product_Category\n",
              "0    Tea Tree Facewash for acne and pimples, Pack O...  ...        Face Wash\n",
              "1                  Vitamin C Clear Skin Combo - 200 ml  ...            Combo\n",
              "2    Argan Conditioner with Argan & Apple Cider Vin...  ...      Conditioner\n",
              "3                                   Retinol Face Serum  ...            Serum\n",
              "4    Onion Hair Oil for Hair Regrowth & Hair Fall C...  ...         Hair Oil\n",
              "..                                                 ...  ...              ...\n",
              "165           Onion Shampoo and Onion Hair Serum Combo  ...          Shampoo\n",
              "166  Onion Shampoo for Hair Growth and Hair Fall Co...  ...          Shampoo\n",
              "167                       Vitamin C Glowing Skin Combo  ...            Combo\n",
              "168  Anti-Pollution Daily Face Cream, for Dry and O...  ...             Misc\n",
              "169    Tea Tree Face Wash and Charcoal Face Wash Combo  ...        Face Wash\n",
              "\n",
              "[170 rows x 10 columns]"
            ]
          },
          "metadata": {
            "tags": []
          },
          "execution_count": 92
        }
      ]
    },
    {
      "cell_type": "markdown",
      "metadata": {
        "id": "AICmogI7Hq-x"
      },
      "source": [
        "# Data Preprocessing and Exploratory Data Analysis"
      ]
    },
    {
      "cell_type": "code",
      "metadata": {
        "id": "UVaeku7km61L"
      },
      "source": [
        "# Create a function that prints the shape, percentage of null values, statistics and information about the data\n",
        "def data_description(data):\n",
        "\n",
        "  # Print the number of rows and columns in the data\n",
        "  rows = data.shape[0]\n",
        "  cols = data.shape[0]\n",
        "  print(\"++++++++++++++++++++++++++++++++++++++++++++++Shape Of Data++++++++++++++++++++++++++++++++++++++++++++\")\n",
        "  print(\"=======================================================================================================\")\n",
        "  print(\"The number of rows in the data are {}\".format(rows))\n",
        "  print(\"The number of columns in the data are {}\".format(cols))\n",
        "  print(\"=======================================================================================================\")\n",
        "  print()\n",
        "\n",
        "  # Print the % null values in the data\n",
        "  for column in data.columns:\n",
        "    num_null_values = data[column].isnull().sum() # Number of null values in the column\n",
        "    percentage_null_values = float(num_null_values)*100/rows\n",
        "    print(\"++++++++++++++++++++++++++++++++++++++++++++++Percentage Null Values+++++++++++++++++++++++++++++++++++\")\n",
        "    print(\"=======================================================================================================\")\n",
        "    print(\"Percentage of null values in the {} column is {:.3f} %\".format(column, percentage_null_values))\n",
        "    print(\"=======================================================================================================\")\n",
        "    print()\n",
        "\n",
        "  # Print the descriptive statistics\n",
        "  print(\"++++++++++++++++++++++++++++++++++++++++++++++Descriptive Statistics+++++++++++++++++++++++++++++++++++\")\n",
        "  print(\"=======================================================================================================\")\n",
        "  print(data.describe())\n",
        "  print(\"=======================================================================================================\")\n",
        "  print()\n",
        "\n",
        "  # Print the information about the data\n",
        "  print(\"++++++++++++++++++++++++++++++++++++++++++++++Information About Data+++++++++++++++++++++++++++++++++++\")\n",
        "  print(\"=======================================================================================================\")\n",
        "  print(data.info())\n",
        "  print(\"=======================================================================================================\")\n",
        "  print()"
      ],
      "execution_count": 93,
      "outputs": []
    },
    {
      "cell_type": "code",
      "metadata": {
        "colab": {
          "base_uri": "https://localhost:8080/"
        },
        "id": "ctM50xspHdFa",
        "outputId": "41da6c52-0c42-4895-c136-14d5c63a4367"
      },
      "source": [
        "data_description(mamaearth_data)"
      ],
      "execution_count": 94,
      "outputs": [
        {
          "output_type": "stream",
          "text": [
            "++++++++++++++++++++++++++++++++++++++++++++++Shape Of Data++++++++++++++++++++++++++++++++++++++++++++\n",
            "=======================================================================================================\n",
            "The number of rows in the data are 170\n",
            "The number of columns in the data are 170\n",
            "=======================================================================================================\n",
            "\n",
            "++++++++++++++++++++++++++++++++++++++++++++++Percentage Null Values+++++++++++++++++++++++++++++++++++\n",
            "=======================================================================================================\n",
            "Percentage of null values in the Title column is 0.000 %\n",
            "=======================================================================================================\n",
            "\n",
            "++++++++++++++++++++++++++++++++++++++++++++++Percentage Null Values+++++++++++++++++++++++++++++++++++\n",
            "=======================================================================================================\n",
            "Percentage of null values in the Product_Link column is 0.000 %\n",
            "=======================================================================================================\n",
            "\n",
            "++++++++++++++++++++++++++++++++++++++++++++++Percentage Null Values+++++++++++++++++++++++++++++++++++\n",
            "=======================================================================================================\n",
            "Percentage of null values in the Ratings column is 0.000 %\n",
            "=======================================================================================================\n",
            "\n",
            "++++++++++++++++++++++++++++++++++++++++++++++Percentage Null Values+++++++++++++++++++++++++++++++++++\n",
            "=======================================================================================================\n",
            "Percentage of null values in the Reviews column is 0.000 %\n",
            "=======================================================================================================\n",
            "\n",
            "++++++++++++++++++++++++++++++++++++++++++++++Percentage Null Values+++++++++++++++++++++++++++++++++++\n",
            "=======================================================================================================\n",
            "Percentage of null values in the MRP column is 0.000 %\n",
            "=======================================================================================================\n",
            "\n",
            "++++++++++++++++++++++++++++++++++++++++++++++Percentage Null Values+++++++++++++++++++++++++++++++++++\n",
            "=======================================================================================================\n",
            "Percentage of null values in the Discounts column is 0.000 %\n",
            "=======================================================================================================\n",
            "\n",
            "++++++++++++++++++++++++++++++++++++++++++++++Percentage Null Values+++++++++++++++++++++++++++++++++++\n",
            "=======================================================================================================\n",
            "Percentage of null values in the Description column is 0.000 %\n",
            "=======================================================================================================\n",
            "\n",
            "++++++++++++++++++++++++++++++++++++++++++++++Percentage Null Values+++++++++++++++++++++++++++++++++++\n",
            "=======================================================================================================\n",
            "Percentage of null values in the Key_Ingredients column is 0.000 %\n",
            "=======================================================================================================\n",
            "\n",
            "++++++++++++++++++++++++++++++++++++++++++++++Percentage Null Values+++++++++++++++++++++++++++++++++++\n",
            "=======================================================================================================\n",
            "Percentage of null values in the Pack_Size column is 0.000 %\n",
            "=======================================================================================================\n",
            "\n",
            "++++++++++++++++++++++++++++++++++++++++++++++Percentage Null Values+++++++++++++++++++++++++++++++++++\n",
            "=======================================================================================================\n",
            "Percentage of null values in the Product_Category column is 0.000 %\n",
            "=======================================================================================================\n",
            "\n",
            "++++++++++++++++++++++++++++++++++++++++++++++Descriptive Statistics+++++++++++++++++++++++++++++++++++\n",
            "=======================================================================================================\n",
            "          Ratings          MRP   Discounts\n",
            "count  170.000000   170.000000  170.000000\n",
            "mean     4.800588   558.017647    2.664706\n",
            "std      0.591007   285.033715    7.212698\n",
            "min      0.000000   149.000000    0.000000\n",
            "25%      4.800000   349.000000    0.000000\n",
            "50%      4.900000   499.000000    0.000000\n",
            "75%      5.000000   689.000000    1.000000\n",
            "max      5.000000  1799.000000   28.000000\n",
            "=======================================================================================================\n",
            "\n",
            "++++++++++++++++++++++++++++++++++++++++++++++Information About Data+++++++++++++++++++++++++++++++++++\n",
            "=======================================================================================================\n",
            "<class 'pandas.core.frame.DataFrame'>\n",
            "RangeIndex: 170 entries, 0 to 169\n",
            "Data columns (total 10 columns):\n",
            " #   Column            Non-Null Count  Dtype  \n",
            "---  ------            --------------  -----  \n",
            " 0   Title             170 non-null    object \n",
            " 1   Product_Link      170 non-null    object \n",
            " 2   Ratings           170 non-null    float64\n",
            " 3   Reviews           170 non-null    object \n",
            " 4   MRP               170 non-null    float64\n",
            " 5   Discounts         170 non-null    float64\n",
            " 6   Description       170 non-null    object \n",
            " 7   Key_Ingredients   170 non-null    object \n",
            " 8   Pack_Size         170 non-null    object \n",
            " 9   Product_Category  170 non-null    object \n",
            "dtypes: float64(3), object(7)\n",
            "memory usage: 13.4+ KB\n",
            "None\n",
            "=======================================================================================================\n",
            "\n"
          ],
          "name": "stdout"
        }
      ]
    },
    {
      "cell_type": "markdown",
      "metadata": {
        "id": "4rqk8LXlBi-V"
      },
      "source": [
        "### OPTIONAL(execute only if null values are encountered)"
      ]
    },
    {
      "cell_type": "code",
      "metadata": {
        "colab": {
          "base_uri": "https://localhost:8080/",
          "height": 49
        },
        "id": "s05pJpVKKtYG",
        "outputId": "dbb311b7-c1f4-4337-f738-694484b1825d"
      },
      "source": [
        "# Ratings column has 1.176% of null values\n",
        "\n",
        "null_data = mamaearth_data[mamaearth_data['Ratings'].isnull() == True] #--> Extract the data having null values\n",
        "null_data"
      ],
      "execution_count": 95,
      "outputs": [
        {
          "output_type": "execute_result",
          "data": {
            "text/html": [
              "<div>\n",
              "<style scoped>\n",
              "    .dataframe tbody tr th:only-of-type {\n",
              "        vertical-align: middle;\n",
              "    }\n",
              "\n",
              "    .dataframe tbody tr th {\n",
              "        vertical-align: top;\n",
              "    }\n",
              "\n",
              "    .dataframe thead th {\n",
              "        text-align: right;\n",
              "    }\n",
              "</style>\n",
              "<table border=\"1\" class=\"dataframe\">\n",
              "  <thead>\n",
              "    <tr style=\"text-align: right;\">\n",
              "      <th></th>\n",
              "      <th>Title</th>\n",
              "      <th>Product_Link</th>\n",
              "      <th>Ratings</th>\n",
              "      <th>Reviews</th>\n",
              "      <th>MRP</th>\n",
              "      <th>Discounts</th>\n",
              "      <th>Description</th>\n",
              "      <th>Key_Ingredients</th>\n",
              "      <th>Pack_Size</th>\n",
              "      <th>Product_Category</th>\n",
              "    </tr>\n",
              "  </thead>\n",
              "  <tbody>\n",
              "  </tbody>\n",
              "</table>\n",
              "</div>"
            ],
            "text/plain": [
              "Empty DataFrame\n",
              "Columns: [Title, Product_Link, Ratings, Reviews, MRP, Discounts, Description, Key_Ingredients, Pack_Size, Product_Category]\n",
              "Index: []"
            ]
          },
          "metadata": {
            "tags": []
          },
          "execution_count": 95
        }
      ]
    },
    {
      "cell_type": "code",
      "metadata": {
        "colab": {
          "base_uri": "https://localhost:8080/",
          "height": 452
        },
        "id": "58kSoEpjLU1I",
        "outputId": "34677292-8e64-4421-eeab-1e8b6fd4b32a"
      },
      "source": [
        "# Impute the null value as the mean ratings corresponding to the Product_Category\n",
        "mamaearth_data.groupby('Product_Category').mean()"
      ],
      "execution_count": null,
      "outputs": [
        {
          "output_type": "execute_result",
          "data": {
            "text/html": [
              "<div>\n",
              "<style scoped>\n",
              "    .dataframe tbody tr th:only-of-type {\n",
              "        vertical-align: middle;\n",
              "    }\n",
              "\n",
              "    .dataframe tbody tr th {\n",
              "        vertical-align: top;\n",
              "    }\n",
              "\n",
              "    .dataframe thead th {\n",
              "        text-align: right;\n",
              "    }\n",
              "</style>\n",
              "<table border=\"1\" class=\"dataframe\">\n",
              "  <thead>\n",
              "    <tr style=\"text-align: right;\">\n",
              "      <th></th>\n",
              "      <th>Ratings</th>\n",
              "      <th>MRP</th>\n",
              "      <th>Discounts</th>\n",
              "    </tr>\n",
              "    <tr>\n",
              "      <th>Product_Category</th>\n",
              "      <th></th>\n",
              "      <th></th>\n",
              "      <th></th>\n",
              "    </tr>\n",
              "  </thead>\n",
              "  <tbody>\n",
              "    <tr>\n",
              "      <th>Body Lotion</th>\n",
              "      <td>4.940000</td>\n",
              "      <td>379.000000</td>\n",
              "      <td>0.000000</td>\n",
              "    </tr>\n",
              "    <tr>\n",
              "      <th>Body Wash</th>\n",
              "      <td>4.866667</td>\n",
              "      <td>348.833333</td>\n",
              "      <td>0.000000</td>\n",
              "    </tr>\n",
              "    <tr>\n",
              "      <th>Combo</th>\n",
              "      <td>4.870000</td>\n",
              "      <td>986.200000</td>\n",
              "      <td>1.500000</td>\n",
              "    </tr>\n",
              "    <tr>\n",
              "      <th>Conditioner</th>\n",
              "      <td>4.900000</td>\n",
              "      <td>375.250000</td>\n",
              "      <td>0.000000</td>\n",
              "    </tr>\n",
              "    <tr>\n",
              "      <th>Face Wash</th>\n",
              "      <td>4.891304</td>\n",
              "      <td>464.875000</td>\n",
              "      <td>0.750000</td>\n",
              "    </tr>\n",
              "    <tr>\n",
              "      <th>Hair Oil</th>\n",
              "      <td>4.600000</td>\n",
              "      <td>580.400000</td>\n",
              "      <td>0.400000</td>\n",
              "    </tr>\n",
              "    <tr>\n",
              "      <th>Kit</th>\n",
              "      <td>4.820000</td>\n",
              "      <td>1033.000000</td>\n",
              "      <td>24.666667</td>\n",
              "    </tr>\n",
              "    <tr>\n",
              "      <th>Mask</th>\n",
              "      <td>4.950000</td>\n",
              "      <td>430.363636</td>\n",
              "      <td>0.045455</td>\n",
              "    </tr>\n",
              "    <tr>\n",
              "      <th>Misc</th>\n",
              "      <td>4.526829</td>\n",
              "      <td>428.317073</td>\n",
              "      <td>0.000000</td>\n",
              "    </tr>\n",
              "    <tr>\n",
              "      <th>Serum</th>\n",
              "      <td>4.870000</td>\n",
              "      <td>695.000000</td>\n",
              "      <td>0.400000</td>\n",
              "    </tr>\n",
              "    <tr>\n",
              "      <th>Shampoo</th>\n",
              "      <td>4.850000</td>\n",
              "      <td>598.722222</td>\n",
              "      <td>0.777778</td>\n",
              "    </tr>\n",
              "    <tr>\n",
              "      <th>Tan Removal Regimen</th>\n",
              "      <td>4.900000</td>\n",
              "      <td>799.000000</td>\n",
              "      <td>27.000000</td>\n",
              "    </tr>\n",
              "  </tbody>\n",
              "</table>\n",
              "</div>"
            ],
            "text/plain": [
              "                      Ratings          MRP  Discounts\n",
              "Product_Category                                     \n",
              "Body Lotion          4.940000   379.000000   0.000000\n",
              "Body Wash            4.866667   348.833333   0.000000\n",
              "Combo                4.870000   986.200000   1.500000\n",
              "Conditioner          4.900000   375.250000   0.000000\n",
              "Face Wash            4.891304   464.875000   0.750000\n",
              "Hair Oil             4.600000   580.400000   0.400000\n",
              "Kit                  4.820000  1033.000000  24.666667\n",
              "Mask                 4.950000   430.363636   0.045455\n",
              "Misc                 4.526829   428.317073   0.000000\n",
              "Serum                4.870000   695.000000   0.400000\n",
              "Shampoo              4.850000   598.722222   0.777778\n",
              "Tan Removal Regimen  4.900000   799.000000  27.000000"
            ]
          },
          "metadata": {
            "tags": []
          },
          "execution_count": 88
        }
      ]
    },
    {
      "cell_type": "code",
      "metadata": {
        "id": "FXjgyxzFLmH1"
      },
      "source": [
        "# Since, the null values correspond to Face Wash and Conditioner Product Category, I will impute the null value as the mean ratings corresponding to these 2 categories\n",
        "mean_face_wash_rating = 4.89\n",
        "mean_conditioner_rating = 4.90\n",
        "\n",
        "null_idx = null_data.index # Extract the location of null values\n",
        "\n",
        "# Iterate over the null indexes and fill the values\n",
        "for idx in null_idx:\n",
        "  \n",
        "  if mamaearth_data.loc[idx]['Product_Category'] == 'Face Wash':\n",
        "    mamaearth_data['Ratings'].loc[idx] = mean_face_wash_rating\n",
        "  else:\n",
        "    mamaearth_data['Ratings'].loc[idx] = mean_conditioner_rating "
      ],
      "execution_count": null,
      "outputs": []
    },
    {
      "cell_type": "code",
      "metadata": {
        "colab": {
          "base_uri": "https://localhost:8080/"
        },
        "id": "83ty21VxMvNe",
        "outputId": "50a74d6b-c2bd-4b26-b7aa-c2ea6cd63fd7"
      },
      "source": [
        "# Check for null values again\n",
        "mamaearth_data.isnull().sum()"
      ],
      "execution_count": null,
      "outputs": [
        {
          "output_type": "execute_result",
          "data": {
            "text/plain": [
              "Title               0\n",
              "Product_Link        0\n",
              "Ratings             0\n",
              "Reviews             0\n",
              "MRP                 0\n",
              "Discounts           0\n",
              "Description         0\n",
              "Key_Ingredients     0\n",
              "Pack_Size           0\n",
              "Product_Category    0\n",
              "dtype: int64"
            ]
          },
          "metadata": {
            "tags": []
          },
          "execution_count": 90
        }
      ]
    },
    {
      "cell_type": "markdown",
      "metadata": {
        "id": "sOb1-8s9M1cW"
      },
      "source": [
        "**Null Values have been imputed**"
      ]
    },
    {
      "cell_type": "markdown",
      "metadata": {
        "id": "3HDcWIvCBxMp"
      },
      "source": [
        "### Feature Engineering"
      ]
    },
    {
      "cell_type": "code",
      "metadata": {
        "colab": {
          "base_uri": "https://localhost:8080/",
          "height": 493
        },
        "id": "WE1uVSw_Mzuj",
        "outputId": "f5444cea-4fd0-42b8-9250-5ee0a7ef761c"
      },
      "source": [
        "mamaearth_data.head()"
      ],
      "execution_count": 96,
      "outputs": [
        {
          "output_type": "execute_result",
          "data": {
            "text/html": [
              "<div>\n",
              "<style scoped>\n",
              "    .dataframe tbody tr th:only-of-type {\n",
              "        vertical-align: middle;\n",
              "    }\n",
              "\n",
              "    .dataframe tbody tr th {\n",
              "        vertical-align: top;\n",
              "    }\n",
              "\n",
              "    .dataframe thead th {\n",
              "        text-align: right;\n",
              "    }\n",
              "</style>\n",
              "<table border=\"1\" class=\"dataframe\">\n",
              "  <thead>\n",
              "    <tr style=\"text-align: right;\">\n",
              "      <th></th>\n",
              "      <th>Title</th>\n",
              "      <th>Product_Link</th>\n",
              "      <th>Ratings</th>\n",
              "      <th>Reviews</th>\n",
              "      <th>MRP</th>\n",
              "      <th>Discounts</th>\n",
              "      <th>Description</th>\n",
              "      <th>Key_Ingredients</th>\n",
              "      <th>Pack_Size</th>\n",
              "      <th>Product_Category</th>\n",
              "    </tr>\n",
              "  </thead>\n",
              "  <tbody>\n",
              "    <tr>\n",
              "      <th>0</th>\n",
              "      <td>Tea Tree Facewash for acne and pimples, Pack O...</td>\n",
              "      <td>https://mamaearth.in/product/tea-tree-facewash...</td>\n",
              "      <td>5.0</td>\n",
              "      <td>[It's amazing product..I have no words to prai...</td>\n",
              "      <td>489.0</td>\n",
              "      <td>2.0</td>\n",
              "      <td>Mamaearth’s SLS and Paraben Free Tea Tree Face...</td>\n",
              "      <td>Neem</td>\n",
              "      <td>SizeNotMentioned</td>\n",
              "      <td>Face Wash</td>\n",
              "    </tr>\n",
              "    <tr>\n",
              "      <th>1</th>\n",
              "      <td>Vitamin C Clear Skin Combo - 200 ml</td>\n",
              "      <td>https://mamaearth.in/product/vitamin-c-clear-s...</td>\n",
              "      <td>5.0</td>\n",
              "      <td>[I liked both products used today refreshing c...</td>\n",
              "      <td>739.0</td>\n",
              "      <td>1.0</td>\n",
              "      <td>Hurry! Only 18 Units Left in Stock!</td>\n",
              "      <td>Vitamin C</td>\n",
              "      <td>200ml</td>\n",
              "      <td>Combo</td>\n",
              "    </tr>\n",
              "    <tr>\n",
              "      <th>2</th>\n",
              "      <td>Argan Conditioner with Argan &amp; Apple Cider Vin...</td>\n",
              "      <td>https://mamaearth.in/product/argan-conditioner...</td>\n",
              "      <td>4.9</td>\n",
              "      <td>[I like this product, This is the argan condit...</td>\n",
              "      <td>349.0</td>\n",
              "      <td>0.0</td>\n",
              "      <td>When it comes to taming frizzy hair, there are...</td>\n",
              "      <td>Argan Oil</td>\n",
              "      <td>250ml</td>\n",
              "      <td>Conditioner</td>\n",
              "    </tr>\n",
              "    <tr>\n",
              "      <th>3</th>\n",
              "      <td>Retinol Face Serum</td>\n",
              "      <td>https://mamaearth.in/product/mamaearth-retinol...</td>\n",
              "      <td>4.9</td>\n",
              "      <td>[Excellent product, very effective....., serum...</td>\n",
              "      <td>799.0</td>\n",
              "      <td>0.0</td>\n",
              "      <td>Hurry! Only 18 Units Left in Stock!</td>\n",
              "      <td>Retinol</td>\n",
              "      <td>SizeNotMentioned</td>\n",
              "      <td>Serum</td>\n",
              "    </tr>\n",
              "    <tr>\n",
              "      <th>4</th>\n",
              "      <td>Onion Hair Oil for Hair Regrowth &amp; Hair Fall C...</td>\n",
              "      <td>https://mamaearth.in/product/onion-hair-oil-fo...</td>\n",
              "      <td>4.9</td>\n",
              "      <td>[Very goooooood, Good, Good]</td>\n",
              "      <td>599.0</td>\n",
              "      <td>0.0</td>\n",
              "      <td>Hurry! Only 16 Units Left in Stock!</td>\n",
              "      <td>Onion Seed Oil</td>\n",
              "      <td>250ml</td>\n",
              "      <td>Hair Oil</td>\n",
              "    </tr>\n",
              "  </tbody>\n",
              "</table>\n",
              "</div>"
            ],
            "text/plain": [
              "                                               Title  ... Product_Category\n",
              "0  Tea Tree Facewash for acne and pimples, Pack O...  ...        Face Wash\n",
              "1                Vitamin C Clear Skin Combo - 200 ml  ...            Combo\n",
              "2  Argan Conditioner with Argan & Apple Cider Vin...  ...      Conditioner\n",
              "3                                 Retinol Face Serum  ...            Serum\n",
              "4  Onion Hair Oil for Hair Regrowth & Hair Fall C...  ...         Hair Oil\n",
              "\n",
              "[5 rows x 10 columns]"
            ]
          },
          "metadata": {
            "tags": []
          },
          "execution_count": 96
        }
      ]
    },
    {
      "cell_type": "code",
      "metadata": {
        "id": "TmxuayvBNACt"
      },
      "source": [
        "# Create a new feature called which stores the price before the discount\n",
        "def compute_price_before_discount(discounted_price, discount):\n",
        "  original_price = discounted_price/(1-(discount/100)) # dividing by 100 because the discount is in percentage\n",
        "  return original_price"
      ],
      "execution_count": 97,
      "outputs": []
    },
    {
      "cell_type": "code",
      "metadata": {
        "id": "BjX1rotlQOy1"
      },
      "source": [
        "mamaearth_data['Price_Before_Discount'] = np.round(compute_price_before_discount(mamaearth_data['MRP'], mamaearth_data['Discounts']))"
      ],
      "execution_count": 101,
      "outputs": []
    },
    {
      "cell_type": "code",
      "metadata": {
        "id": "vEC1zKhTQWY_"
      },
      "source": [
        "# Rearrange the columns\n",
        "mamaearth_final_data = mamaearth_data[['Title', 'Product_Link', 'Ratings', 'Price_Before_Discount', 'Discounts', 'MRP', 'Pack_Size','Description', 'Reviews', 'Product_Category', 'Key_Ingredients']]"
      ],
      "execution_count": 102,
      "outputs": []
    },
    {
      "cell_type": "code",
      "metadata": {
        "colab": {
          "base_uri": "https://localhost:8080/",
          "height": 581
        },
        "id": "K-AMcAQpRB6h",
        "outputId": "10c8ca91-c5b7-4a61-db21-7ac67472e262"
      },
      "source": [
        "mamaearth_final_data.head()"
      ],
      "execution_count": 103,
      "outputs": [
        {
          "output_type": "execute_result",
          "data": {
            "text/html": [
              "<div>\n",
              "<style scoped>\n",
              "    .dataframe tbody tr th:only-of-type {\n",
              "        vertical-align: middle;\n",
              "    }\n",
              "\n",
              "    .dataframe tbody tr th {\n",
              "        vertical-align: top;\n",
              "    }\n",
              "\n",
              "    .dataframe thead th {\n",
              "        text-align: right;\n",
              "    }\n",
              "</style>\n",
              "<table border=\"1\" class=\"dataframe\">\n",
              "  <thead>\n",
              "    <tr style=\"text-align: right;\">\n",
              "      <th></th>\n",
              "      <th>Title</th>\n",
              "      <th>Product_Link</th>\n",
              "      <th>Ratings</th>\n",
              "      <th>Price_Before_Discount</th>\n",
              "      <th>Discounts</th>\n",
              "      <th>MRP</th>\n",
              "      <th>Pack_Size</th>\n",
              "      <th>Description</th>\n",
              "      <th>Reviews</th>\n",
              "      <th>Product_Category</th>\n",
              "      <th>Key_Ingredients</th>\n",
              "    </tr>\n",
              "  </thead>\n",
              "  <tbody>\n",
              "    <tr>\n",
              "      <th>0</th>\n",
              "      <td>Tea Tree Facewash for acne and pimples, Pack O...</td>\n",
              "      <td>https://mamaearth.in/product/tea-tree-facewash...</td>\n",
              "      <td>5.0</td>\n",
              "      <td>499.0</td>\n",
              "      <td>2.0</td>\n",
              "      <td>489.0</td>\n",
              "      <td>SizeNotMentioned</td>\n",
              "      <td>Mamaearth’s SLS and Paraben Free Tea Tree Face...</td>\n",
              "      <td>[It's amazing product..I have no words to prai...</td>\n",
              "      <td>Face Wash</td>\n",
              "      <td>Neem</td>\n",
              "    </tr>\n",
              "    <tr>\n",
              "      <th>1</th>\n",
              "      <td>Vitamin C Clear Skin Combo - 200 ml</td>\n",
              "      <td>https://mamaearth.in/product/vitamin-c-clear-s...</td>\n",
              "      <td>5.0</td>\n",
              "      <td>746.0</td>\n",
              "      <td>1.0</td>\n",
              "      <td>739.0</td>\n",
              "      <td>200ml</td>\n",
              "      <td>Hurry! Only 18 Units Left in Stock!</td>\n",
              "      <td>[I liked both products used today refreshing c...</td>\n",
              "      <td>Combo</td>\n",
              "      <td>Vitamin C</td>\n",
              "    </tr>\n",
              "    <tr>\n",
              "      <th>2</th>\n",
              "      <td>Argan Conditioner with Argan &amp; Apple Cider Vin...</td>\n",
              "      <td>https://mamaearth.in/product/argan-conditioner...</td>\n",
              "      <td>4.9</td>\n",
              "      <td>349.0</td>\n",
              "      <td>0.0</td>\n",
              "      <td>349.0</td>\n",
              "      <td>250ml</td>\n",
              "      <td>When it comes to taming frizzy hair, there are...</td>\n",
              "      <td>[I like this product, This is the argan condit...</td>\n",
              "      <td>Conditioner</td>\n",
              "      <td>Argan Oil</td>\n",
              "    </tr>\n",
              "    <tr>\n",
              "      <th>3</th>\n",
              "      <td>Retinol Face Serum</td>\n",
              "      <td>https://mamaearth.in/product/mamaearth-retinol...</td>\n",
              "      <td>4.9</td>\n",
              "      <td>799.0</td>\n",
              "      <td>0.0</td>\n",
              "      <td>799.0</td>\n",
              "      <td>SizeNotMentioned</td>\n",
              "      <td>Hurry! Only 18 Units Left in Stock!</td>\n",
              "      <td>[Excellent product, very effective....., serum...</td>\n",
              "      <td>Serum</td>\n",
              "      <td>Retinol</td>\n",
              "    </tr>\n",
              "    <tr>\n",
              "      <th>4</th>\n",
              "      <td>Onion Hair Oil for Hair Regrowth &amp; Hair Fall C...</td>\n",
              "      <td>https://mamaearth.in/product/onion-hair-oil-fo...</td>\n",
              "      <td>4.9</td>\n",
              "      <td>599.0</td>\n",
              "      <td>0.0</td>\n",
              "      <td>599.0</td>\n",
              "      <td>250ml</td>\n",
              "      <td>Hurry! Only 16 Units Left in Stock!</td>\n",
              "      <td>[Very goooooood, Good, Good]</td>\n",
              "      <td>Hair Oil</td>\n",
              "      <td>Onion Seed Oil</td>\n",
              "    </tr>\n",
              "  </tbody>\n",
              "</table>\n",
              "</div>"
            ],
            "text/plain": [
              "                                               Title  ... Key_Ingredients\n",
              "0  Tea Tree Facewash for acne and pimples, Pack O...  ...            Neem\n",
              "1                Vitamin C Clear Skin Combo - 200 ml  ...       Vitamin C\n",
              "2  Argan Conditioner with Argan & Apple Cider Vin...  ...       Argan Oil\n",
              "3                                 Retinol Face Serum  ...         Retinol\n",
              "4  Onion Hair Oil for Hair Regrowth & Hair Fall C...  ...  Onion Seed Oil\n",
              "\n",
              "[5 rows x 11 columns]"
            ]
          },
          "metadata": {
            "tags": []
          },
          "execution_count": 103
        }
      ]
    },
    {
      "cell_type": "code",
      "metadata": {
        "colab": {
          "base_uri": "https://localhost:8080/",
          "height": 1000
        },
        "id": "8br5ATithMja",
        "outputId": "2dba2a76-beef-4914-ae37-c668bd2d40ef"
      },
      "source": [
        "import seaborn as sns\n",
        "import matplotlib.pyplot as plt\n",
        "\n",
        "'''This code cell creates various plots'''\n",
        "\n",
        "'''\n",
        "1. Countplot for all the Key_Ingredients.\n",
        "'''\n",
        "plt.figure(figsize=(20, 20))\n",
        "sns.countplot(data = mamaearth_final_data, x = 'Key_Ingredients')\n",
        "plt.xticks(rotation=-90)\n",
        "plt.show()\n",
        "\n",
        "'''\n",
        "2. Countplot for all the Producte Categories\n",
        "'''\n",
        "plt.figure(figsize=(20, 20))\n",
        "sns.countplot(data = mamaearth_final_data, x = 'Product_Category')\n",
        "plt.xticks(rotation=-90)\n",
        "plt.show()"
      ],
      "execution_count": 104,
      "outputs": [
        {
          "output_type": "display_data",
          "data": {
            "image/png": "[encoded data removed]",
            "text/plain": [
              "<Figure size 1440x1440 with 1 Axes>"
            ]
          },
          "metadata": {
            "tags": [],
            "needs_background": "light"
          }
        },
        {
          "output_type": "display_data",
          "data": {
            "image/png": "[encoded data removed]",
            "text/plain": [
              "<Figure size 1440x1440 with 1 Axes>"
            ]
          },
          "metadata": {
            "tags": [],
            "needs_background": "light"
          }
        }
      ]
    },
    {
      "cell_type": "code",
      "metadata": {
        "colab": {
          "base_uri": "https://localhost:8080/",
          "height": 1000
        },
        "id": "SO1cWcHfClb9",
        "outputId": "c4097dde-3441-43c6-9b2b-2f7816f8f5ab"
      },
      "source": [
        "'''\n",
        "3. Frequency distribution of numerical values\n",
        "'''\n",
        "data = mamaearth_final_data\n",
        "columns = ['Ratings',\t'Price_Before_Discount', 'Discounts',\t'MRP']\n",
        "fig, ((ax1, ax2), (ax3, ax4)) = plt.subplots(2,2, figsize=(12,12))\n",
        "sns.histplot(data, x=columns[0], ax=ax1)\n",
        "sns.histplot(data, x=columns[1], ax=ax2)\n",
        "sns.histplot(data, x=columns[2], ax=ax3)\n",
        "sns.histplot(data, x=columns[3], ax=ax4)\n",
        "plt.show()\n",
        "print(\"=========================================================================================================================================================================\")\n",
        "'''\n",
        "4. Boxplots w.r.t key ingredients and product category\n",
        "'''\n",
        "x_columns = ['Key_Ingredients', 'Product_Category']\n",
        "\n",
        "# a. Key Ingredients\n",
        "\n",
        "fig, (ax1, ax2) = plt.subplots(1,2, figsize=(20,5))\n",
        "sns.boxplot(data=data, x=x_columns[0], y=columns[0], ax=ax1)\n",
        "plt.setp(ax1.xaxis.get_majorticklabels(), rotation=-90)\n",
        "sns.boxplot(data=data, x=x_columns[0], y=columns[1], ax=ax2)\n",
        "plt.setp(ax2.xaxis.get_majorticklabels(), rotation=-90)\n",
        "plt.show()\n",
        "\n",
        "fig, (ax1, ax2) = plt.subplots(1,2, figsize=(20,5))\n",
        "sns.boxplot(data=data, x=x_columns[0], y=columns[2], ax=ax1)\n",
        "plt.setp(ax1.xaxis.get_majorticklabels(), rotation=-90)\n",
        "sns.boxplot(data=data, x=x_columns[0], y=columns[3], ax=ax2)\n",
        "plt.setp(ax2.xaxis.get_majorticklabels(), rotation=-90)\n",
        "plt.show()\n",
        "print(\"=========================================================================================================================================================================\")\n",
        "\n",
        "# b. Product Category\n",
        "\n",
        "fig, (ax1, ax2) = plt.subplots(1,2, figsize=(20,5))\n",
        "sns.boxplot(data=data, x=x_columns[1], y=columns[0], ax=ax1)\n",
        "plt.setp(ax1.xaxis.get_majorticklabels(), rotation=-90)\n",
        "sns.boxplot(data=data, x=x_columns[1], y=columns[1], ax=ax2)\n",
        "plt.setp(ax2.xaxis.get_majorticklabels(), rotation=-90)\n",
        "plt.show()\n",
        "\n",
        "fig, (ax1, ax2) = plt.subplots(1,2, figsize=(20,5))\n",
        "sns.boxplot(data=data, x=x_columns[1], y=columns[2], ax=ax1)\n",
        "plt.setp(ax1.xaxis.get_majorticklabels(), rotation=-90)\n",
        "sns.boxplot(data=data, x=x_columns[1], y=columns[3], ax=ax2)\n",
        "plt.setp(ax2.xaxis.get_majorticklabels(), rotation=-90)\n",
        "plt.show()\n",
        "print(\"=========================================================================================================================================================================\")\n"
      ],
      "execution_count": 137,
      "outputs": [
        {
          "output_type": "display_data",
          "data": {
            "image/png": "[encoded data removed]",
            "text/plain": [
              "<Figure size 864x864 with 4 Axes>"
            ]
          },
          "metadata": {
            "tags": [],
            "needs_background": "light"
          }
        },
        {
          "output_type": "stream",
          "text": [
            "=========================================================================================================================================================================\n"
          ],
          "name": "stdout"
        },
        {
          "output_type": "display_data",
          "data": {
            "image/png": "[encoded data removed]",
            "text/plain": [
              "<Figure size 1440x360 with 2 Axes>"
            ]
          },
          "metadata": {
            "tags": [],
            "needs_background": "light"
          }
        },
        {
          "output_type": "display_data",
          "data": {
            "image/png": "[encoded data removed]",
            "text/plain": [
              "<Figure size 1440x360 with 2 Axes>"
            ]
          },
          "metadata": {
            "tags": [],
            "needs_background": "light"
          }
        },
        {
          "output_type": "stream",
          "text": [
            "=========================================================================================================================================================================\n"
          ],
          "name": "stdout"
        },
        {
          "output_type": "display_data",
          "data": {
            "image/png": "[encoded data removed]",
            "text/plain": [
              "<Figure size 1440x360 with 2 Axes>"
            ]
          },
          "metadata": {
            "tags": [],
            "needs_background": "light"
          }
        },
        {
          "output_type": "display_data",
          "data": {
            "image/png": "[encoded data removed]",
            "text/plain": [
              "<Figure size 1440x360 with 2 Axes>"
            ]
          },
          "metadata": {
            "tags": [],
            "needs_background": "light"
          }
        },
        {
          "output_type": "stream",
          "text": [
            "=========================================================================================================================================================================\n"
          ],
          "name": "stdout"
        }
      ]
    },
    {
      "cell_type": "markdown",
      "metadata": {
        "id": "mb3KanqXRV63"
      },
      "source": [
        "# Machine Learning Model"
      ]
    },
    {
      "cell_type": "markdown",
      "metadata": {
        "id": "eztIzVY3RYep"
      },
      "source": [
        "**Since, there are 2 target variables in this case. One, the Key_Ingredient and the second is the Product_Category. Hence, classification model(s) have to be trained on 2 Datasets.**"
      ]
    },
    {
      "cell_type": "markdown",
      "metadata": {
        "id": "FoOltZAnRtS7"
      },
      "source": [
        "### Predicting the Key_Ingredient"
      ]
    },
    {
      "cell_type": "markdown",
      "metadata": {
        "id": "NTFiMKERSCl8"
      },
      "source": [
        "**Data Preparations**\n",
        "\n",
        "I will be building a NLP based model."
      ]
    },
    {
      "cell_type": "code",
      "metadata": {
        "id": "KrQOvkFAREz4"
      },
      "source": [
        "training_data = mamaearth_final_data[['Title', 'Product_Link', 'Description', 'Reviews', 'Product_Category']] # Traning Data\n",
        "target_label_1 = mamaearth_final_data['Key_Ingredients'] # Target Label"
      ],
      "execution_count": 138,
      "outputs": []
    },
    {
      "cell_type": "code",
      "metadata": {
        "id": "_EFJCozXgoom"
      },
      "source": [
        "# Encode the target_label_1\n",
        "from sklearn.preprocessing import LabelEncoder\n",
        "\n",
        "# Model Object\n",
        "le = LabelEncoder()\n",
        "\n",
        "# fit_transform the target_variable\n",
        "target_label_1 = le.fit_transform(target_label_1)"
      ],
      "execution_count": 139,
      "outputs": []
    },
    {
      "cell_type": "code",
      "metadata": {
        "id": "4VRS4ww4SAsj",
        "colab": {
          "base_uri": "https://localhost:8080/"
        },
        "outputId": "678ebc0d-84bf-4ceb-ccca-9eb07ba40367"
      },
      "source": [
        "# Flatten the reviews\n",
        "training_data['Reviews'] = training_data['Reviews'].apply(lambda x : \" \".join(x))"
      ],
      "execution_count": 140,
      "outputs": [
        {
          "output_type": "stream",
          "text": [
            "/usr/local/lib/python3.7/dist-packages/ipykernel_launcher.py:2: SettingWithCopyWarning: \n",
            "A value is trying to be set on a copy of a slice from a DataFrame.\n",
            "Try using .loc[row_indexer,col_indexer] = value instead\n",
            "\n",
            "See the caveats in the documentation: https://pandas.pydata.org/pandas-docs/stable/user_guide/indexing.html#returning-a-view-versus-a-copy\n",
            "  \n"
          ],
          "name": "stderr"
        }
      ]
    },
    {
      "cell_type": "code",
      "metadata": {
        "id": "r_2_JOisSjZc"
      },
      "source": [
        "# Merge the text columns\n",
        "merged_data = np.full((training_data.shape[0],), '')\n",
        "for column in training_data.columns:\n",
        "  merged_data = merged_data + training_data[column].values"
      ],
      "execution_count": 141,
      "outputs": []
    },
    {
      "cell_type": "code",
      "metadata": {
        "colab": {
          "base_uri": "https://localhost:8080/",
          "height": 137
        },
        "id": "IALP6V28TKoU",
        "outputId": "252b3b89-ab4c-4e35-c4b3-3fb7377dbd5c"
      },
      "source": [
        "merged_data[0]"
      ],
      "execution_count": 142,
      "outputs": [
        {
          "output_type": "execute_result",
          "data": {
            "application/vnd.google.colaboratory.intrinsic+json": {
              "type": "string"
            },
            "text/plain": [
              "\"Tea Tree Facewash for acne and pimples, Pack Of 2 _ds_https://mamaearth.in/product/tea-tree-facewash-for-acne-and-pimples-pack-of-2Mamaearth’s SLS and Paraben Free Tea Tree Face Wash is a natural blend of neem and tea tree oil. It helps prevent acne by deep cleaning impurities, fighting bacteria and controlling excess oil secretion. All this, without stripping the skin off its natural oils. Aloe Vera in the face wash helps reduce redness and inflammation. Dermatologically tested and pH balanced, it takes gentle care of your skin while making it look healthy and glowing. It is absolutely safe since it contains no harmful chemicals like SLES, Sulfates, Phthalates, and Artificial Fragrances.It's amazing product..I have no words to praise it as It is the only facewash which really worked rather than other tv commercials who act good only but their products aren't. I love purchasing mamaearth facewash as It is valuable Its really an amazing product, i have tried alot of medical products for my pimples but they were useless , instead this facewash works within a week and i found visible changes in skin of my face , it was much cleaner clear and smooth..just loved it..5 stars Good product for acne pimple and Glowing skin soo use it frnds and get smooth faseFace Wash\""
            ]
          },
          "metadata": {
            "tags": []
          },
          "execution_count": 142
        }
      ]
    },
    {
      "cell_type": "code",
      "metadata": {
        "colab": {
          "base_uri": "https://localhost:8080/"
        },
        "id": "FXwag6CBUeiE",
        "outputId": "c170dc61-bbc9-4494-b225-4e1647a231bc"
      },
      "source": [
        "# Bag of words pipeline\n",
        "\n",
        "'''\n",
        "1. Tokenization\n",
        "2. Stopword Removal\n",
        "3. Stemming\n",
        "4. TF-IDF Vectorizer\n",
        "'''\n",
        "\n",
        "# Import NLTK libraries\n",
        "\n",
        "import nltk #---> NLTK : Natural Language Toolkit\n",
        "from nltk.tokenize import RegexpTokenizer\n",
        "from nltk.corpus import stopwords\n",
        "from nltk.stem import PorterStemmer\n",
        "from sklearn.feature_extraction.text import TfidfVectorizer\n",
        "\n",
        "nltk.download('punkt') # Tokenizers\n",
        "nltk.download('stopwords') # Downloading Stopwordss\n",
        "\n",
        "\n",
        "def bag_of_words(data):\n",
        "\n",
        "  # 1. Tokenization\n",
        "\n",
        "  tokenizer = RegexpTokenizer('^\\w+|\\$[\\d\\.]+|\\S+') # Tokenizer object\n",
        "  tokenized_data = [] # List for storing the tokenized data\n",
        "\n",
        "  for value in data:\n",
        "    tokenized_text = tokenizer.tokenize(value) # tokenize the text\n",
        "    tokenized_data.append(tokenized_text)\n",
        "  \n",
        "  # 2. Stopword Removal\n",
        "\n",
        "  sw = stopwords.words('english') # Create a list of stopwords in English Language\n",
        "  clean_data = [] # List for storing the clean data\n",
        "\n",
        "  for value in tokenized_data:\n",
        "    clean_text = [words.lower() for words in value if words.lower() not in sw] # Clean the text\n",
        "    clean_data.append(clean_text)\n",
        "  \n",
        "  # 3. Stemming\n",
        "\n",
        "  ps = PorterStemmer() # Create a porter stemmer object\n",
        "  stemmed_data = [] # List for storing the stemmed data\n",
        "\n",
        "  for value in clean_data:\n",
        "    stemmed_text = [ps.stem(word) for word in value] # Stem each word in the text\n",
        "    stemmed_data.append(stemmed_text)\n",
        "  \n",
        "  # 4. TF-IDF Vectorizer\n",
        "  updated_data = []\n",
        "  for data in stemmed_data:\n",
        "    updated_data.append(\" \".join(data))\n",
        "  \n",
        "  tfidf_vector = TfidfVectorizer() # TFIDF Object\n",
        "  \n",
        "  return tfidf_vector.fit_transform(updated_data)\n",
        "\n",
        "\n"
      ],
      "execution_count": 143,
      "outputs": [
        {
          "output_type": "stream",
          "text": [
            "[nltk_data] Downloading package punkt to /root/nltk_data...\n",
            "[nltk_data]   Unzipping tokenizers/punkt.zip.\n",
            "[nltk_data] Downloading package stopwords to /root/nltk_data...\n",
            "[nltk_data]   Unzipping corpora/stopwords.zip.\n"
          ],
          "name": "stdout"
        }
      ]
    },
    {
      "cell_type": "code",
      "metadata": {
        "id": "HcmMbljrUxXV"
      },
      "source": [
        "# Preprocess the data using the above function and convert the sparse matrix to numpy array\n",
        "final_training_data = bag_of_words(merged_data).toarray()"
      ],
      "execution_count": 144,
      "outputs": []
    },
    {
      "cell_type": "code",
      "metadata": {
        "colab": {
          "base_uri": "https://localhost:8080/"
        },
        "id": "2hPf5tVmZ8qS",
        "outputId": "72399a80-1836-49aa-c9b5-f3a4d44bd4d0"
      },
      "source": [
        "final_training_data.shape"
      ],
      "execution_count": 145,
      "outputs": [
        {
          "output_type": "execute_result",
          "data": {
            "text/plain": [
              "(170, 2045)"
            ]
          },
          "metadata": {
            "tags": []
          },
          "execution_count": 145
        }
      ]
    },
    {
      "cell_type": "code",
      "metadata": {
        "id": "Tyuex-VmdBpE"
      },
      "source": [
        "# Model selection\n",
        "from sklearn.model_selection import train_test_split, RandomizedSearchCV\n",
        "\n",
        "# Split the data into train and test\n",
        "X_train, X_test, y_train, y_test = train_test_split(final_training_data, target_label_1, test_size=0.2, random_state=42)"
      ],
      "execution_count": 167,
      "outputs": []
    },
    {
      "cell_type": "code",
      "metadata": {
        "id": "hebof7jjewOu"
      },
      "source": [
        "# Model metrics\n",
        "from sklearn.metrics import accuracy_score\n",
        "\n",
        "def compute_metrics(data, y_true, model_obj, model):\n",
        "\n",
        "  # Make Predictions\n",
        "  y_pred = model_obj.predict(data)\n",
        "\n",
        "  # compute accuracy\n",
        "  acc = accuracy_score(y_true, y_pred)\n",
        "\n",
        "  # create a dataframe\n",
        "  metrics = pd.DataFrame(np.array([acc]), columns=['Accuracy'], index = [model])\n",
        "  return metrics"
      ],
      "execution_count": 147,
      "outputs": []
    },
    {
      "cell_type": "code",
      "metadata": {
        "id": "mkEh0KpSfx4R"
      },
      "source": [
        "# 1. Naive Bayes\n",
        "from sklearn.naive_bayes import MultinomialNB\n",
        "\n",
        "# Model Object\n",
        "mnb = MultinomialNB() #--> Default model\n",
        "\n",
        "# fit the model\n",
        "mnb.fit(X_train, y_train)\n",
        "\n",
        "# Compute metrics\n",
        "mnb_metrics_train = compute_metrics(X_train, y_train, mnb, \"NaiveBayes\")\n",
        "mnb_metrics_test = compute_metrics(X_test, y_test, mnb, \"NaiveBayes\")"
      ],
      "execution_count": 310,
      "outputs": []
    },
    {
      "cell_type": "code",
      "metadata": {
        "colab": {
          "base_uri": "https://localhost:8080/",
          "height": 80
        },
        "id": "sanWqqaZgLBy",
        "outputId": "735d334b-ac7e-45b0-bbda-c68de8d7c514"
      },
      "source": [
        "mnb_metrics_train"
      ],
      "execution_count": 311,
      "outputs": [
        {
          "output_type": "execute_result",
          "data": {
            "text/html": [
              "<div>\n",
              "<style scoped>\n",
              "    .dataframe tbody tr th:only-of-type {\n",
              "        vertical-align: middle;\n",
              "    }\n",
              "\n",
              "    .dataframe tbody tr th {\n",
              "        vertical-align: top;\n",
              "    }\n",
              "\n",
              "    .dataframe thead th {\n",
              "        text-align: right;\n",
              "    }\n",
              "</style>\n",
              "<table border=\"1\" class=\"dataframe\">\n",
              "  <thead>\n",
              "    <tr style=\"text-align: right;\">\n",
              "      <th></th>\n",
              "      <th>Accuracy</th>\n",
              "    </tr>\n",
              "  </thead>\n",
              "  <tbody>\n",
              "    <tr>\n",
              "      <th>NaiveBayes</th>\n",
              "      <td>0.367647</td>\n",
              "    </tr>\n",
              "  </tbody>\n",
              "</table>\n",
              "</div>"
            ],
            "text/plain": [
              "            Accuracy\n",
              "NaiveBayes  0.367647"
            ]
          },
          "metadata": {
            "tags": []
          },
          "execution_count": 311
        }
      ]
    },
    {
      "cell_type": "code",
      "metadata": {
        "colab": {
          "base_uri": "https://localhost:8080/"
        },
        "id": "2oDtNCIRgQ-Q",
        "outputId": "c02898e2-bcae-4a25-9825-16812ffc24e4"
      },
      "source": [
        "# 2. Logistic Regression\n",
        "from sklearn.linear_model import LogisticRegression\n",
        "\n",
        "# Model Object\n",
        "lr_clf = LogisticRegression() #--> Default LR model\n",
        "\n",
        "# Fit the model\n",
        "lr_clf.fit(X_train, y_train)"
      ],
      "execution_count": 312,
      "outputs": [
        {
          "output_type": "execute_result",
          "data": {
            "text/plain": [
              "LogisticRegression(C=1.0, class_weight=None, dual=False, fit_intercept=True,\n",
              "                   intercept_scaling=1, l1_ratio=None, max_iter=100,\n",
              "                   multi_class='auto', n_jobs=None, penalty='l2',\n",
              "                   random_state=None, solver='lbfgs', tol=0.0001, verbose=0,\n",
              "                   warm_start=False)"
            ]
          },
          "metadata": {
            "tags": []
          },
          "execution_count": 312
        }
      ]
    },
    {
      "cell_type": "code",
      "metadata": {
        "id": "dVm0_ZBRt9lI"
      },
      "source": [
        "# Compute the metrics\n",
        "lr_metrics_train = compute_metrics(X_train, y_train, lr_clf, 'LogisticRegression')\n",
        "lr_metrics_test = compute_metrics(X_test, y_test, lr_clf, 'LogisticRegression')"
      ],
      "execution_count": 313,
      "outputs": []
    },
    {
      "cell_type": "code",
      "metadata": {
        "id": "plOdm0XYja4Y",
        "colab": {
          "base_uri": "https://localhost:8080/"
        },
        "outputId": "2e56d8e5-f010-469c-8f31-eaed9032992a"
      },
      "source": [
        "# 3. Decision Tree Classifier\n",
        "from sklearn.tree import DecisionTreeClassifier\n",
        "\n",
        "# Modle Object\n",
        "dt_clf = DecisionTreeClassifier() #--> Default Object\n",
        "\n",
        "# Hyperparameter Tuning\n",
        "params = {'criterion' : ['gini', 'entropy'],\n",
        "          'splitter' : ['best', 'random'],\n",
        "          'max_depth' : [None, 10, 20, 30, 40 , 50, 100],\n",
        "          'min_samples_split' : [2, 3, 4, 5],\n",
        "          'max_features' : ['auto', 'sqrt', 'log2']\n",
        "          }\n",
        "\n",
        "# Fit the model\n",
        "rscv_dt = RandomizedSearchCV(dt_clf, params, n_iter=50, n_jobs=-1, verbose=1)\n",
        "rscv_dt.fit(X_train, y_train)\n",
        "\n",
        "# Compute metrics\n",
        "dt_ht_metrics_train = compute_metrics(X_train, y_train, rscv_dt, 'DecisionTree')\n",
        "dt_ht_metrics_test = compute_metrics(X_test, y_test, rscv_dt, 'DecisionTree')"
      ],
      "execution_count": 314,
      "outputs": [
        {
          "output_type": "stream",
          "text": [
            "Fitting 5 folds for each of 50 candidates, totalling 250 fits\n"
          ],
          "name": "stdout"
        },
        {
          "output_type": "stream",
          "text": [
            "/usr/local/lib/python3.7/dist-packages/sklearn/model_selection/_split.py:667: UserWarning: The least populated class in y has only 1 members, which is less than n_splits=5.\n",
            "  % (min_groups, self.n_splits)), UserWarning)\n",
            "[Parallel(n_jobs=-1)]: Using backend LokyBackend with 2 concurrent workers.\n",
            "[Parallel(n_jobs=-1)]: Done 250 out of 250 | elapsed:    0.7s finished\n"
          ],
          "name": "stderr"
        }
      ]
    },
    {
      "cell_type": "code",
      "metadata": {
        "colab": {
          "base_uri": "https://localhost:8080/",
          "height": 80
        },
        "id": "jitLfg9QOomu",
        "outputId": "53242051-a2b3-4306-e7dd-21e1399ee70a"
      },
      "source": [
        "dt_ht_metrics_train"
      ],
      "execution_count": 315,
      "outputs": [
        {
          "output_type": "execute_result",
          "data": {
            "text/html": [
              "<div>\n",
              "<style scoped>\n",
              "    .dataframe tbody tr th:only-of-type {\n",
              "        vertical-align: middle;\n",
              "    }\n",
              "\n",
              "    .dataframe tbody tr th {\n",
              "        vertical-align: top;\n",
              "    }\n",
              "\n",
              "    .dataframe thead th {\n",
              "        text-align: right;\n",
              "    }\n",
              "</style>\n",
              "<table border=\"1\" class=\"dataframe\">\n",
              "  <thead>\n",
              "    <tr style=\"text-align: right;\">\n",
              "      <th></th>\n",
              "      <th>Accuracy</th>\n",
              "    </tr>\n",
              "  </thead>\n",
              "  <tbody>\n",
              "    <tr>\n",
              "      <th>DecisionTree</th>\n",
              "      <td>0.808824</td>\n",
              "    </tr>\n",
              "  </tbody>\n",
              "</table>\n",
              "</div>"
            ],
            "text/plain": [
              "              Accuracy\n",
              "DecisionTree  0.808824"
            ]
          },
          "metadata": {
            "tags": []
          },
          "execution_count": 315
        }
      ]
    },
    {
      "cell_type": "code",
      "metadata": {
        "colab": {
          "base_uri": "https://localhost:8080/",
          "height": 80
        },
        "id": "2dslBJPRPZIK",
        "outputId": "6b2b265c-af97-4a32-8b46-72e93dc89f5a"
      },
      "source": [
        "dt_ht_metrics_test"
      ],
      "execution_count": 316,
      "outputs": [
        {
          "output_type": "execute_result",
          "data": {
            "text/html": [
              "<div>\n",
              "<style scoped>\n",
              "    .dataframe tbody tr th:only-of-type {\n",
              "        vertical-align: middle;\n",
              "    }\n",
              "\n",
              "    .dataframe tbody tr th {\n",
              "        vertical-align: top;\n",
              "    }\n",
              "\n",
              "    .dataframe thead th {\n",
              "        text-align: right;\n",
              "    }\n",
              "</style>\n",
              "<table border=\"1\" class=\"dataframe\">\n",
              "  <thead>\n",
              "    <tr style=\"text-align: right;\">\n",
              "      <th></th>\n",
              "      <th>Accuracy</th>\n",
              "    </tr>\n",
              "  </thead>\n",
              "  <tbody>\n",
              "    <tr>\n",
              "      <th>DecisionTree</th>\n",
              "      <td>0.264706</td>\n",
              "    </tr>\n",
              "  </tbody>\n",
              "</table>\n",
              "</div>"
            ],
            "text/plain": [
              "              Accuracy\n",
              "DecisionTree  0.264706"
            ]
          },
          "metadata": {
            "tags": []
          },
          "execution_count": 316
        }
      ]
    },
    {
      "cell_type": "code",
      "metadata": {
        "colab": {
          "base_uri": "https://localhost:8080/"
        },
        "id": "ZV8DyUlgPa44",
        "outputId": "acc36c13-98ce-4fd0-e44e-cc972c889c05"
      },
      "source": [
        "# 4. Random Forest\n",
        "from sklearn.ensemble import RandomForestClassifier\n",
        "\n",
        "# model object\n",
        "rf_clf = RandomForestClassifier() # Default Model\n",
        "\n",
        "# Number of trees in random forest\n",
        "n_estimators = [int(x) for x in np.linspace(start = 200, stop = 2000, num = 10)]\n",
        "# Number of features to consider at every split\n",
        "max_features = ['auto', 'sqrt']\n",
        "# Maximum number of levels in tree\n",
        "max_depth = [int(x) for x in np.linspace(10, 110, num = 11)]\n",
        "max_depth.append(None)\n",
        "# Minimum number of samples required to split a node\n",
        "min_samples_split = [2, 5, 10]\n",
        "# Minimum number of samples required at each leaf node\n",
        "min_samples_leaf = [1, 2, 4]\n",
        "# Method of selecting samples for training each tree\n",
        "bootstrap = [True, False]\n",
        "# Create the random grid\n",
        "params = {'n_estimators': n_estimators,\n",
        "               'max_features': max_features,\n",
        "               'max_depth': max_depth,\n",
        "               'min_samples_split': min_samples_split,\n",
        "               'min_samples_leaf': min_samples_leaf,\n",
        "               'bootstrap': bootstrap}\n",
        "\n",
        "# Fit the Model\n",
        "rscv_rf = RandomizedSearchCV(rf_clf, params, 5, n_jobs=-1, verbose=1)\n",
        "rscv_rf.fit(X_train, y_train)"
      ],
      "execution_count": 317,
      "outputs": [
        {
          "output_type": "stream",
          "text": [
            "Fitting 5 folds for each of 5 candidates, totalling 25 fits\n"
          ],
          "name": "stdout"
        },
        {
          "output_type": "stream",
          "text": [
            "/usr/local/lib/python3.7/dist-packages/sklearn/model_selection/_split.py:667: UserWarning: The least populated class in y has only 1 members, which is less than n_splits=5.\n",
            "  % (min_groups, self.n_splits)), UserWarning)\n",
            "[Parallel(n_jobs=-1)]: Using backend LokyBackend with 2 concurrent workers.\n",
            "[Parallel(n_jobs=-1)]: Done  25 out of  25 | elapsed:   39.5s finished\n"
          ],
          "name": "stderr"
        },
        {
          "output_type": "execute_result",
          "data": {
            "text/plain": [
              "RandomizedSearchCV(cv=None, error_score=nan,\n",
              "                   estimator=RandomForestClassifier(bootstrap=True,\n",
              "                                                    ccp_alpha=0.0,\n",
              "                                                    class_weight=None,\n",
              "                                                    criterion='gini',\n",
              "                                                    max_depth=None,\n",
              "                                                    max_features='auto',\n",
              "                                                    max_leaf_nodes=None,\n",
              "                                                    max_samples=None,\n",
              "                                                    min_impurity_decrease=0.0,\n",
              "                                                    min_impurity_split=None,\n",
              "                                                    min_samples_leaf=1,\n",
              "                                                    min_samples_split=2,\n",
              "                                                    min_weight_fraction_leaf=0.0,\n",
              "                                                    n_estimators=100,\n",
              "                                                    n_j...\n",
              "                   param_distributions={'bootstrap': [True, False],\n",
              "                                        'max_depth': [10, 20, 30, 40, 50, 60,\n",
              "                                                      70, 80, 90, 100, 110,\n",
              "                                                      None],\n",
              "                                        'max_features': ['auto', 'sqrt'],\n",
              "                                        'min_samples_leaf': [1, 2, 4],\n",
              "                                        'min_samples_split': [2, 5, 10],\n",
              "                                        'n_estimators': [200, 400, 600, 800,\n",
              "                                                         1000, 1200, 1400, 1600,\n",
              "                                                         1800, 2000]},\n",
              "                   pre_dispatch='2*n_jobs', random_state=None, refit=True,\n",
              "                   return_train_score=False, scoring=None, verbose=1)"
            ]
          },
          "metadata": {
            "tags": []
          },
          "execution_count": 317
        }
      ]
    },
    {
      "cell_type": "code",
      "metadata": {
        "id": "51p70AvNQ1I-"
      },
      "source": [
        "# Compute metrics\n",
        "rf_metrics_train = compute_metrics(X_train, y_train, rscv_rf, 'RandomForest')\n",
        "rf_metrics_test = compute_metrics(X_test, y_test, rscv_rf, 'RandomForest')"
      ],
      "execution_count": 318,
      "outputs": []
    },
    {
      "cell_type": "code",
      "metadata": {
        "colab": {
          "base_uri": "https://localhost:8080/",
          "height": 80
        },
        "id": "K7lrvFFeRMNr",
        "outputId": "fc5a9a02-1d34-401e-c7a0-b56bb609a267"
      },
      "source": [
        "rf_metrics_test"
      ],
      "execution_count": 319,
      "outputs": [
        {
          "output_type": "execute_result",
          "data": {
            "text/html": [
              "<div>\n",
              "<style scoped>\n",
              "    .dataframe tbody tr th:only-of-type {\n",
              "        vertical-align: middle;\n",
              "    }\n",
              "\n",
              "    .dataframe tbody tr th {\n",
              "        vertical-align: top;\n",
              "    }\n",
              "\n",
              "    .dataframe thead th {\n",
              "        text-align: right;\n",
              "    }\n",
              "</style>\n",
              "<table border=\"1\" class=\"dataframe\">\n",
              "  <thead>\n",
              "    <tr style=\"text-align: right;\">\n",
              "      <th></th>\n",
              "      <th>Accuracy</th>\n",
              "    </tr>\n",
              "  </thead>\n",
              "  <tbody>\n",
              "    <tr>\n",
              "      <th>RandomForest</th>\n",
              "      <td>0.5</td>\n",
              "    </tr>\n",
              "  </tbody>\n",
              "</table>\n",
              "</div>"
            ],
            "text/plain": [
              "              Accuracy\n",
              "RandomForest       0.5"
            ]
          },
          "metadata": {
            "tags": []
          },
          "execution_count": 319
        }
      ]
    },
    {
      "cell_type": "code",
      "metadata": {
        "colab": {
          "base_uri": "https://localhost:8080/",
          "height": 80
        },
        "id": "Yp8B80WZRNYN",
        "outputId": "9f5de82b-14c6-4222-bc21-0a4efc6bb5c6"
      },
      "source": [
        "rf_metrics_train"
      ],
      "execution_count": 320,
      "outputs": [
        {
          "output_type": "execute_result",
          "data": {
            "text/html": [
              "<div>\n",
              "<style scoped>\n",
              "    .dataframe tbody tr th:only-of-type {\n",
              "        vertical-align: middle;\n",
              "    }\n",
              "\n",
              "    .dataframe tbody tr th {\n",
              "        vertical-align: top;\n",
              "    }\n",
              "\n",
              "    .dataframe thead th {\n",
              "        text-align: right;\n",
              "    }\n",
              "</style>\n",
              "<table border=\"1\" class=\"dataframe\">\n",
              "  <thead>\n",
              "    <tr style=\"text-align: right;\">\n",
              "      <th></th>\n",
              "      <th>Accuracy</th>\n",
              "    </tr>\n",
              "  </thead>\n",
              "  <tbody>\n",
              "    <tr>\n",
              "      <th>RandomForest</th>\n",
              "      <td>0.897059</td>\n",
              "    </tr>\n",
              "  </tbody>\n",
              "</table>\n",
              "</div>"
            ],
            "text/plain": [
              "              Accuracy\n",
              "RandomForest  0.897059"
            ]
          },
          "metadata": {
            "tags": []
          },
          "execution_count": 320
        }
      ]
    },
    {
      "cell_type": "code",
      "metadata": {
        "colab": {
          "base_uri": "https://localhost:8080/"
        },
        "id": "3m6KWYiAROE-",
        "outputId": "3e51c31f-2784-4c99-8c9e-9207af09ee5e"
      },
      "source": [
        "# 6. XGBoost\n",
        "from xgboost import XGBClassifier\n",
        "\n",
        "# Model Obejct\n",
        "xgb_clf = XGBClassifier() # Default Model\n",
        "\n",
        "# Hyperparameter Tuning\n",
        "params = {'n_estimators' : [100, 200, 300, 400, 500, 600, 700]}\n",
        "\n",
        "#Fit the model\n",
        "rscv_xgb = RandomizedSearchCV(xgb_clf, params, n_iter=10, n_jobs=-1, verbose=1)\n",
        "rscv_xgb.fit(X_train, y_train)\n",
        "\n",
        "# Compute Metrics\n",
        "xgb_metrics_train = compute_metrics(X_train, y_train, rscv_xgb, 'XGBoost')\n",
        "xgb_metrics_test = compute_metrics(X_test, y_test, rscv_xgb, 'XGBoost')"
      ],
      "execution_count": 321,
      "outputs": [
        {
          "output_type": "stream",
          "text": [
            "/usr/local/lib/python3.7/dist-packages/sklearn/model_selection/_search.py:281: UserWarning: The total space of parameters 7 is smaller than n_iter=10. Running 7 iterations. For exhaustive searches, use GridSearchCV.\n",
            "  % (grid_size, self.n_iter, grid_size), UserWarning)\n",
            "/usr/local/lib/python3.7/dist-packages/sklearn/model_selection/_split.py:667: UserWarning: The least populated class in y has only 1 members, which is less than n_splits=5.\n",
            "  % (min_groups, self.n_splits)), UserWarning)\n",
            "[Parallel(n_jobs=-1)]: Using backend LokyBackend with 2 concurrent workers.\n"
          ],
          "name": "stderr"
        },
        {
          "output_type": "stream",
          "text": [
            "Fitting 5 folds for each of 7 candidates, totalling 35 fits\n"
          ],
          "name": "stdout"
        },
        {
          "output_type": "stream",
          "text": [
            "[Parallel(n_jobs=-1)]: Done  35 out of  35 | elapsed: 19.9min finished\n"
          ],
          "name": "stderr"
        }
      ]
    },
    {
      "cell_type": "code",
      "metadata": {
        "colab": {
          "base_uri": "https://localhost:8080/",
          "height": 80
        },
        "id": "cUFt63rNUf0O",
        "outputId": "578ae269-7d2d-4d0c-8b4c-0a1dec039c68"
      },
      "source": [
        "xgb_metrics_train"
      ],
      "execution_count": 328,
      "outputs": [
        {
          "output_type": "execute_result",
          "data": {
            "text/html": [
              "<div>\n",
              "<style scoped>\n",
              "    .dataframe tbody tr th:only-of-type {\n",
              "        vertical-align: middle;\n",
              "    }\n",
              "\n",
              "    .dataframe tbody tr th {\n",
              "        vertical-align: top;\n",
              "    }\n",
              "\n",
              "    .dataframe thead th {\n",
              "        text-align: right;\n",
              "    }\n",
              "</style>\n",
              "<table border=\"1\" class=\"dataframe\">\n",
              "  <thead>\n",
              "    <tr style=\"text-align: right;\">\n",
              "      <th></th>\n",
              "      <th>Accuracy</th>\n",
              "    </tr>\n",
              "  </thead>\n",
              "  <tbody>\n",
              "    <tr>\n",
              "      <th>XGBoost</th>\n",
              "      <td>1.0</td>\n",
              "    </tr>\n",
              "  </tbody>\n",
              "</table>\n",
              "</div>"
            ],
            "text/plain": [
              "         Accuracy\n",
              "XGBoost       1.0"
            ]
          },
          "metadata": {
            "tags": []
          },
          "execution_count": 328
        }
      ]
    },
    {
      "cell_type": "code",
      "metadata": {
        "colab": {
          "base_uri": "https://localhost:8080/",
          "height": 80
        },
        "id": "ya8XyDCgcrkM",
        "outputId": "bb5bc74b-b40e-4270-b8f4-4d2c226f5efa"
      },
      "source": [
        "xgb_metrics_test"
      ],
      "execution_count": 329,
      "outputs": [
        {
          "output_type": "execute_result",
          "data": {
            "text/html": [
              "<div>\n",
              "<style scoped>\n",
              "    .dataframe tbody tr th:only-of-type {\n",
              "        vertical-align: middle;\n",
              "    }\n",
              "\n",
              "    .dataframe tbody tr th {\n",
              "        vertical-align: top;\n",
              "    }\n",
              "\n",
              "    .dataframe thead th {\n",
              "        text-align: right;\n",
              "    }\n",
              "</style>\n",
              "<table border=\"1\" class=\"dataframe\">\n",
              "  <thead>\n",
              "    <tr style=\"text-align: right;\">\n",
              "      <th></th>\n",
              "      <th>Accuracy</th>\n",
              "    </tr>\n",
              "  </thead>\n",
              "  <tbody>\n",
              "    <tr>\n",
              "      <th>XGBoost</th>\n",
              "      <td>0.441176</td>\n",
              "    </tr>\n",
              "  </tbody>\n",
              "</table>\n",
              "</div>"
            ],
            "text/plain": [
              "         Accuracy\n",
              "XGBoost  0.441176"
            ]
          },
          "metadata": {
            "tags": []
          },
          "execution_count": 329
        }
      ]
    },
    {
      "cell_type": "code",
      "metadata": {
        "id": "x7NefY3wcuCq"
      },
      "source": [
        "# Concat the metrics\n",
        "columns_train = ['Accuracy_Train']\n",
        "columns_test = ['Accuracy_Test']\n",
        "index = ['NaiveBayes', 'LogisticRegression', 'DecisionTree', 'RandomForest', 'XGBoost']\n",
        "model_metrics_train = pd.DataFrame(np.array([mnb_metrics_train, lr_metrics_train, dt_ht_metrics_train, rf_metrics_train, xgb_metrics_train]).reshape(5,1), columns=columns_train, index=index)\n",
        "model_metrics_test = pd.DataFrame(np.array([mnb_metrics_test, lr_metrics_test, dt_ht_metrics_test, rf_metrics_test, xgb_metrics_test]).reshape(5,1), columns=columns_test, index=index)"
      ],
      "execution_count": 330,
      "outputs": []
    },
    {
      "cell_type": "code",
      "metadata": {
        "id": "04JKXoPSdv1r"
      },
      "source": [
        "model_metrics_1 = pd.concat((model_metrics_train, model_metrics_test), axis=1).sort_values(by='Accuracy_Test', ascending=False).reset_index()\n",
        "model_metrics_1.rename(columns={'index' : 'Models'}, inplace=True)"
      ],
      "execution_count": 331,
      "outputs": []
    },
    {
      "cell_type": "code",
      "metadata": {
        "colab": {
          "base_uri": "https://localhost:8080/",
          "height": 204
        },
        "id": "XdZk2772w1e5",
        "outputId": "f8a4f0ca-7f61-42fb-bd2e-2fc287608e0a"
      },
      "source": [
        "model_metrics_1"
      ],
      "execution_count": 332,
      "outputs": [
        {
          "output_type": "execute_result",
          "data": {
            "text/html": [
              "<div>\n",
              "<style scoped>\n",
              "    .dataframe tbody tr th:only-of-type {\n",
              "        vertical-align: middle;\n",
              "    }\n",
              "\n",
              "    .dataframe tbody tr th {\n",
              "        vertical-align: top;\n",
              "    }\n",
              "\n",
              "    .dataframe thead th {\n",
              "        text-align: right;\n",
              "    }\n",
              "</style>\n",
              "<table border=\"1\" class=\"dataframe\">\n",
              "  <thead>\n",
              "    <tr style=\"text-align: right;\">\n",
              "      <th></th>\n",
              "      <th>Models</th>\n",
              "      <th>Accuracy_Train</th>\n",
              "      <th>Accuracy_Test</th>\n",
              "    </tr>\n",
              "  </thead>\n",
              "  <tbody>\n",
              "    <tr>\n",
              "      <th>0</th>\n",
              "      <td>RandomForest</td>\n",
              "      <td>0.897059</td>\n",
              "      <td>0.500000</td>\n",
              "    </tr>\n",
              "    <tr>\n",
              "      <th>1</th>\n",
              "      <td>XGBoost</td>\n",
              "      <td>1.000000</td>\n",
              "      <td>0.441176</td>\n",
              "    </tr>\n",
              "    <tr>\n",
              "      <th>2</th>\n",
              "      <td>LogisticRegression</td>\n",
              "      <td>0.617647</td>\n",
              "      <td>0.411765</td>\n",
              "    </tr>\n",
              "    <tr>\n",
              "      <th>3</th>\n",
              "      <td>DecisionTree</td>\n",
              "      <td>0.808824</td>\n",
              "      <td>0.264706</td>\n",
              "    </tr>\n",
              "    <tr>\n",
              "      <th>4</th>\n",
              "      <td>NaiveBayes</td>\n",
              "      <td>0.367647</td>\n",
              "      <td>0.205882</td>\n",
              "    </tr>\n",
              "  </tbody>\n",
              "</table>\n",
              "</div>"
            ],
            "text/plain": [
              "               Models  Accuracy_Train  Accuracy_Test\n",
              "0        RandomForest        0.897059       0.500000\n",
              "1             XGBoost        1.000000       0.441176\n",
              "2  LogisticRegression        0.617647       0.411765\n",
              "3        DecisionTree        0.808824       0.264706\n",
              "4          NaiveBayes        0.367647       0.205882"
            ]
          },
          "metadata": {
            "tags": []
          },
          "execution_count": 332
        }
      ]
    },
    {
      "cell_type": "code",
      "metadata": {
        "id": "TeJde1rNzl1m"
      },
      "source": [
        "predictions_1 = rscv_rf.predict(X_test)"
      ],
      "execution_count": 342,
      "outputs": []
    },
    {
      "cell_type": "code",
      "metadata": {
        "colab": {
          "base_uri": "https://localhost:8080/"
        },
        "id": "D9dqoV_VANdA",
        "outputId": "26703951-eaed-49f6-a5f8-e94dd60f2ff3"
      },
      "source": [
        "predictions_1"
      ],
      "execution_count": 343,
      "outputs": [
        {
          "output_type": "execute_result",
          "data": {
            "text/plain": [
              "array([41, 42,  4, 29, 42, 42, 28, 42, 42, 28, 41, 28, 16, 39, 13, 42, 41,\n",
              "       42, 42, 41, 41, 28, 13, 42, 38,  4, 39, 39,  3, 41, 41, 41, 41, 13])"
            ]
          },
          "metadata": {
            "tags": []
          },
          "execution_count": 343
        }
      ]
    },
    {
      "cell_type": "code",
      "metadata": {
        "colab": {
          "base_uri": "https://localhost:8080/",
          "height": 1000
        },
        "id": "37o4wbaCzlp4",
        "outputId": "be6fc1d4-bbd0-4508-cddc-9baa1298a626"
      },
      "source": [
        "predictions_1 = le.inverse_transform(predictions_1)\n",
        "predictions_1 = pd.DataFrame({\"Key_Ingredients\" : predictions_1})\n",
        "predictions_1"
      ],
      "execution_count": 344,
      "outputs": [
        {
          "output_type": "execute_result",
          "data": {
            "text/html": [
              "<div>\n",
              "<style scoped>\n",
              "    .dataframe tbody tr th:only-of-type {\n",
              "        vertical-align: middle;\n",
              "    }\n",
              "\n",
              "    .dataframe tbody tr th {\n",
              "        vertical-align: top;\n",
              "    }\n",
              "\n",
              "    .dataframe thead th {\n",
              "        text-align: right;\n",
              "    }\n",
              "</style>\n",
              "<table border=\"1\" class=\"dataframe\">\n",
              "  <thead>\n",
              "    <tr style=\"text-align: right;\">\n",
              "      <th></th>\n",
              "      <th>Key_Ingredients</th>\n",
              "    </tr>\n",
              "  </thead>\n",
              "  <tbody>\n",
              "    <tr>\n",
              "      <th>0</th>\n",
              "      <td>Turmeric</td>\n",
              "    </tr>\n",
              "    <tr>\n",
              "      <th>1</th>\n",
              "      <td>Vitamin C</td>\n",
              "    </tr>\n",
              "    <tr>\n",
              "      <th>2</th>\n",
              "      <td>Bhringraj</td>\n",
              "    </tr>\n",
              "    <tr>\n",
              "      <th>3</th>\n",
              "      <td>Organic Apple Cider Vinegar</td>\n",
              "    </tr>\n",
              "    <tr>\n",
              "      <th>4</th>\n",
              "      <td>Vitamin C</td>\n",
              "    </tr>\n",
              "    <tr>\n",
              "      <th>5</th>\n",
              "      <td>Vitamin C</td>\n",
              "    </tr>\n",
              "    <tr>\n",
              "      <th>6</th>\n",
              "      <td>Onion Seed Oil</td>\n",
              "    </tr>\n",
              "    <tr>\n",
              "      <th>7</th>\n",
              "      <td>Vitamin C</td>\n",
              "    </tr>\n",
              "    <tr>\n",
              "      <th>8</th>\n",
              "      <td>Vitamin C</td>\n",
              "    </tr>\n",
              "    <tr>\n",
              "      <th>9</th>\n",
              "      <td>Onion Seed Oil</td>\n",
              "    </tr>\n",
              "    <tr>\n",
              "      <th>10</th>\n",
              "      <td>Turmeric</td>\n",
              "    </tr>\n",
              "    <tr>\n",
              "      <th>11</th>\n",
              "      <td>Onion Seed Oil</td>\n",
              "    </tr>\n",
              "    <tr>\n",
              "      <th>12</th>\n",
              "      <td>Fermented Rice Water</td>\n",
              "    </tr>\n",
              "    <tr>\n",
              "      <th>13</th>\n",
              "      <td>Tea Tree Oil</td>\n",
              "    </tr>\n",
              "    <tr>\n",
              "      <th>14</th>\n",
              "      <td>Coffee</td>\n",
              "    </tr>\n",
              "    <tr>\n",
              "      <th>15</th>\n",
              "      <td>Vitamin C</td>\n",
              "    </tr>\n",
              "    <tr>\n",
              "      <th>16</th>\n",
              "      <td>Turmeric</td>\n",
              "    </tr>\n",
              "    <tr>\n",
              "      <th>17</th>\n",
              "      <td>Vitamin C</td>\n",
              "    </tr>\n",
              "    <tr>\n",
              "      <th>18</th>\n",
              "      <td>Vitamin C</td>\n",
              "    </tr>\n",
              "    <tr>\n",
              "      <th>19</th>\n",
              "      <td>Turmeric</td>\n",
              "    </tr>\n",
              "    <tr>\n",
              "      <th>20</th>\n",
              "      <td>Turmeric</td>\n",
              "    </tr>\n",
              "    <tr>\n",
              "      <th>21</th>\n",
              "      <td>Onion Seed Oil</td>\n",
              "    </tr>\n",
              "    <tr>\n",
              "      <th>22</th>\n",
              "      <td>Coffee</td>\n",
              "    </tr>\n",
              "    <tr>\n",
              "      <th>23</th>\n",
              "      <td>Vitamin C</td>\n",
              "    </tr>\n",
              "    <tr>\n",
              "      <th>24</th>\n",
              "      <td>Tea Tree</td>\n",
              "    </tr>\n",
              "    <tr>\n",
              "      <th>25</th>\n",
              "      <td>Bhringraj</td>\n",
              "    </tr>\n",
              "    <tr>\n",
              "      <th>26</th>\n",
              "      <td>Tea Tree Oil</td>\n",
              "    </tr>\n",
              "    <tr>\n",
              "      <th>27</th>\n",
              "      <td>Tea Tree Oil</td>\n",
              "    </tr>\n",
              "    <tr>\n",
              "      <th>28</th>\n",
              "      <td>Argan Oil</td>\n",
              "    </tr>\n",
              "    <tr>\n",
              "      <th>29</th>\n",
              "      <td>Turmeric</td>\n",
              "    </tr>\n",
              "    <tr>\n",
              "      <th>30</th>\n",
              "      <td>Turmeric</td>\n",
              "    </tr>\n",
              "    <tr>\n",
              "      <th>31</th>\n",
              "      <td>Turmeric</td>\n",
              "    </tr>\n",
              "    <tr>\n",
              "      <th>32</th>\n",
              "      <td>Turmeric</td>\n",
              "    </tr>\n",
              "    <tr>\n",
              "      <th>33</th>\n",
              "      <td>Coffee</td>\n",
              "    </tr>\n",
              "  </tbody>\n",
              "</table>\n",
              "</div>"
            ],
            "text/plain": [
              "                Key_Ingredients\n",
              "0                      Turmeric\n",
              "1                     Vitamin C\n",
              "2                     Bhringraj\n",
              "3   Organic Apple Cider Vinegar\n",
              "4                     Vitamin C\n",
              "5                     Vitamin C\n",
              "6                Onion Seed Oil\n",
              "7                     Vitamin C\n",
              "8                     Vitamin C\n",
              "9                Onion Seed Oil\n",
              "10                     Turmeric\n",
              "11               Onion Seed Oil\n",
              "12         Fermented Rice Water\n",
              "13                 Tea Tree Oil\n",
              "14                       Coffee\n",
              "15                    Vitamin C\n",
              "16                     Turmeric\n",
              "17                    Vitamin C\n",
              "18                    Vitamin C\n",
              "19                     Turmeric\n",
              "20                     Turmeric\n",
              "21               Onion Seed Oil\n",
              "22                       Coffee\n",
              "23                    Vitamin C\n",
              "24                     Tea Tree\n",
              "25                    Bhringraj\n",
              "26                 Tea Tree Oil\n",
              "27                 Tea Tree Oil\n",
              "28                    Argan Oil\n",
              "29                     Turmeric\n",
              "30                     Turmeric\n",
              "31                     Turmeric\n",
              "32                     Turmeric\n",
              "33                       Coffee"
            ]
          },
          "metadata": {
            "tags": []
          },
          "execution_count": 344
        }
      ]
    },
    {
      "cell_type": "markdown",
      "metadata": {
        "id": "MsbYx8WheeMR"
      },
      "source": [
        "## Predicting Product Category"
      ]
    },
    {
      "cell_type": "markdown",
      "metadata": {
        "id": "J39ZxsIpeiP6"
      },
      "source": [
        "**In this section, Product Category Classification Modle will be build.**"
      ]
    },
    {
      "cell_type": "code",
      "metadata": {
        "id": "rSa60NyqegO4"
      },
      "source": [
        "training_data_2 = mamaearth_final_data[['Title', 'Product_Link', 'Description', 'Reviews', 'Key_Ingredients']] #  Prepare the training data \n",
        "target_label_2 = mamaearth_final_data['Product_Category'] # Target Label for this case"
      ],
      "execution_count": 298,
      "outputs": []
    },
    {
      "cell_type": "code",
      "metadata": {
        "colab": {
          "base_uri": "https://localhost:8080/"
        },
        "id": "R_HDULldfwDX",
        "outputId": "5cb2b7fe-c9d4-49c4-aac8-d8a7a0b0e1b7"
      },
      "source": [
        "# Merge the data\n",
        "training_data_2['Reviews'] = training_data_2['Reviews'].apply(lambda x : ' '.join(x))"
      ],
      "execution_count": 299,
      "outputs": [
        {
          "output_type": "stream",
          "text": [
            "/usr/local/lib/python3.7/dist-packages/ipykernel_launcher.py:2: SettingWithCopyWarning: \n",
            "A value is trying to be set on a copy of a slice from a DataFrame.\n",
            "Try using .loc[row_indexer,col_indexer] = value instead\n",
            "\n",
            "See the caveats in the documentation: https://pandas.pydata.org/pandas-docs/stable/user_guide/indexing.html#returning-a-view-versus-a-copy\n",
            "  \n"
          ],
          "name": "stderr"
        }
      ]
    },
    {
      "cell_type": "code",
      "metadata": {
        "id": "z3z7uLHGf_2o"
      },
      "source": [
        "# Merge the text columns\n",
        "def merge_data(data):\n",
        "  merged_data = np.full((data.shape[0],), '')\n",
        "  for column in data.columns:\n",
        "    merged_data = merged_data + data[column].values\n",
        "  return merged_data"
      ],
      "execution_count": 300,
      "outputs": []
    },
    {
      "cell_type": "code",
      "metadata": {
        "id": "Ul-5A6ttgX4N"
      },
      "source": [
        "merged_training_data = merge_data(training_data_2)"
      ],
      "execution_count": 301,
      "outputs": []
    },
    {
      "cell_type": "code",
      "metadata": {
        "id": "z3gRTtEre7oX"
      },
      "source": [
        "# Preprocess the data using the above created function\n",
        "final_training_data_2 = bag_of_words(merged_training_data)"
      ],
      "execution_count": 302,
      "outputs": []
    },
    {
      "cell_type": "code",
      "metadata": {
        "id": "tcGvmBvggkCr"
      },
      "source": [
        "# Encode the target column\n",
        "le_2 = LabelEncoder()\n",
        "target_label_2 = le_2.fit_transform(target_label_2)"
      ],
      "execution_count": 303,
      "outputs": []
    },
    {
      "cell_type": "code",
      "metadata": {
        "id": "fIgmskBD5PV1"
      },
      "source": [
        "# Split the data\n",
        "X_train_2, X_test_2, y_train_2, y_test_2 = train_test_split(final_training_data_2, target_label_2, test_size=0.2, random_state=42)"
      ],
      "execution_count": 351,
      "outputs": []
    },
    {
      "cell_type": "code",
      "metadata": {
        "colab": {
          "base_uri": "https://localhost:8080/"
        },
        "id": "W_QHJSjIhG4v",
        "outputId": "e37d75ae-dd6d-4258-9bf1-a4f906342c9a"
      },
      "source": [
        "# Train the data on the above built models and compute the metrics\n",
        "\n",
        "#.1 Naive Bayes\n",
        "mnb.fit(X_train_2, y_train_2)\n",
        "mnb_metrics_train_2 = compute_metrics(X_train_2, y_train_2, mnb, 'NaiveBayes')\n",
        "mnb_metrics_test_2 = compute_metrics(X_test_2, y_test_2, mnb, 'NaiveBayes')\n",
        "\n",
        "#.2 Logistic Regression\n",
        "lr_clf.fit(X_train_2, y_train_2)\n",
        "lr_metrics_train_2 = compute_metrics(X_train_2, y_train_2, lr_clf, 'LogisticRegression')\n",
        "lr_metrics_test_2 = compute_metrics(X_test_2, y_test_2, lr_clf, 'LogisticRegression')\n",
        "\n",
        "#.3 Decision Tree\n",
        "rscv_dt.fit(X_train_2, y_train_2)\n",
        "dt_metrics_train_2 = compute_metrics(X_train_2, y_train_2, rscv_dt, 'DecisionTree')\n",
        "dt_metrics_test_2 = compute_metrics(X_test_2, y_test_2, rscv_dt, 'DecisionTree')\n",
        "\n",
        "#.4 Random Forest\n",
        "rscv_rf.fit(X_train_2, y_train_2)\n",
        "rf_metrics_train_2 = compute_metrics(X_train_2, y_train_2, rscv_rf, 'RandomForest')\n",
        "rf_metrics_test_2 = compute_metrics(X_test_2, y_test_2, rscv_rf, 'RandomForest')\n",
        "\n",
        "#.5 XGBoost\n",
        "rscv_xgb.fit(X_train_2, y_train_2)\n",
        "xgb_metrics_train_2 = compute_metrics(X_train_2, y_train_2, rscv_xgb, 'XGBoost')\n",
        "xgb_metrics_test_2 = compute_metrics(X_test_2, y_test_2, rscv_xgb, 'XGBoost')"
      ],
      "execution_count": 352,
      "outputs": [
        {
          "output_type": "stream",
          "text": [
            "Fitting 5 folds for each of 50 candidates, totalling 250 fits\n"
          ],
          "name": "stdout"
        },
        {
          "output_type": "stream",
          "text": [
            "/usr/local/lib/python3.7/dist-packages/sklearn/model_selection/_split.py:667: UserWarning: The least populated class in y has only 1 members, which is less than n_splits=5.\n",
            "  % (min_groups, self.n_splits)), UserWarning)\n",
            "[Parallel(n_jobs=-1)]: Using backend LokyBackend with 2 concurrent workers.\n",
            "[Parallel(n_jobs=-1)]: Done 250 out of 250 | elapsed:    0.6s finished\n",
            "/usr/local/lib/python3.7/dist-packages/sklearn/model_selection/_split.py:667: UserWarning: The least populated class in y has only 1 members, which is less than n_splits=5.\n",
            "  % (min_groups, self.n_splits)), UserWarning)\n",
            "[Parallel(n_jobs=-1)]: Using backend LokyBackend with 2 concurrent workers.\n"
          ],
          "name": "stderr"
        },
        {
          "output_type": "stream",
          "text": [
            "Fitting 5 folds for each of 5 candidates, totalling 25 fits\n"
          ],
          "name": "stdout"
        },
        {
          "output_type": "stream",
          "text": [
            "[Parallel(n_jobs=-1)]: Done  25 out of  25 | elapsed:   42.5s finished\n",
            "/usr/local/lib/python3.7/dist-packages/sklearn/model_selection/_search.py:281: UserWarning: The total space of parameters 7 is smaller than n_iter=10. Running 7 iterations. For exhaustive searches, use GridSearchCV.\n",
            "  % (grid_size, self.n_iter, grid_size), UserWarning)\n",
            "/usr/local/lib/python3.7/dist-packages/sklearn/model_selection/_split.py:667: UserWarning: The least populated class in y has only 1 members, which is less than n_splits=5.\n",
            "  % (min_groups, self.n_splits)), UserWarning)\n",
            "[Parallel(n_jobs=-1)]: Using backend LokyBackend with 2 concurrent workers.\n"
          ],
          "name": "stderr"
        },
        {
          "output_type": "stream",
          "text": [
            "Fitting 5 folds for each of 7 candidates, totalling 35 fits\n"
          ],
          "name": "stdout"
        },
        {
          "output_type": "stream",
          "text": [
            "[Parallel(n_jobs=-1)]: Done  35 out of  35 | elapsed:  3.0min finished\n"
          ],
          "name": "stderr"
        }
      ]
    },
    {
      "cell_type": "code",
      "metadata": {
        "colab": {
          "base_uri": "https://localhost:8080/",
          "height": 204
        },
        "id": "C1oA2N90iiIB",
        "outputId": "ebb5fc6b-51d1-444d-fc4e-76b543b7f270"
      },
      "source": [
        "model_metrics_train_2 = pd.DataFrame(np.array([mnb_metrics_train_2, lr_metrics_train_2, dt_metrics_train_2, rf_metrics_train_2, xgb_metrics_train_2]).reshape(5,1), columns=columns_train, index=index)\n",
        "model_metrics_test_2 = pd.DataFrame(np.array([mnb_metrics_test_2, lr_metrics_test_2, dt_metrics_test_2, rf_metrics_test_2, xgb_metrics_test_2]).reshape(5,1), columns=columns_test, index=index)\n",
        "model_metrics_2 = pd.concat((model_metrics_train_2, model_metrics_test_2), axis=1).sort_values(by='Accuracy_Test', ascending = False).reset_index()\n",
        "model_metrics_2.rename(columns={'index' : 'Models'}, inplace=True)\n",
        "model_metrics_2"
      ],
      "execution_count": 353,
      "outputs": [
        {
          "output_type": "execute_result",
          "data": {
            "text/html": [
              "<div>\n",
              "<style scoped>\n",
              "    .dataframe tbody tr th:only-of-type {\n",
              "        vertical-align: middle;\n",
              "    }\n",
              "\n",
              "    .dataframe tbody tr th {\n",
              "        vertical-align: top;\n",
              "    }\n",
              "\n",
              "    .dataframe thead th {\n",
              "        text-align: right;\n",
              "    }\n",
              "</style>\n",
              "<table border=\"1\" class=\"dataframe\">\n",
              "  <thead>\n",
              "    <tr style=\"text-align: right;\">\n",
              "      <th></th>\n",
              "      <th>Models</th>\n",
              "      <th>Accuracy_Train</th>\n",
              "      <th>Accuracy_Test</th>\n",
              "    </tr>\n",
              "  </thead>\n",
              "  <tbody>\n",
              "    <tr>\n",
              "      <th>0</th>\n",
              "      <td>RandomForest</td>\n",
              "      <td>1.000000</td>\n",
              "      <td>0.705882</td>\n",
              "    </tr>\n",
              "    <tr>\n",
              "      <th>1</th>\n",
              "      <td>XGBoost</td>\n",
              "      <td>1.000000</td>\n",
              "      <td>0.705882</td>\n",
              "    </tr>\n",
              "    <tr>\n",
              "      <th>2</th>\n",
              "      <td>LogisticRegression</td>\n",
              "      <td>0.735294</td>\n",
              "      <td>0.529412</td>\n",
              "    </tr>\n",
              "    <tr>\n",
              "      <th>3</th>\n",
              "      <td>NaiveBayes</td>\n",
              "      <td>0.610294</td>\n",
              "      <td>0.441176</td>\n",
              "    </tr>\n",
              "    <tr>\n",
              "      <th>4</th>\n",
              "      <td>DecisionTree</td>\n",
              "      <td>0.911765</td>\n",
              "      <td>0.382353</td>\n",
              "    </tr>\n",
              "  </tbody>\n",
              "</table>\n",
              "</div>"
            ],
            "text/plain": [
              "               Models  Accuracy_Train  Accuracy_Test\n",
              "0        RandomForest        1.000000       0.705882\n",
              "1             XGBoost        1.000000       0.705882\n",
              "2  LogisticRegression        0.735294       0.529412\n",
              "3          NaiveBayes        0.610294       0.441176\n",
              "4        DecisionTree        0.911765       0.382353"
            ]
          },
          "metadata": {
            "tags": []
          },
          "execution_count": 353
        }
      ]
    },
    {
      "cell_type": "code",
      "metadata": {
        "id": "g4Kvjpy-zzS5"
      },
      "source": [
        "predictions_2 = rscv_rf.predict(X_test_2)\n",
        "predictions_2 = le_2.inverse_transform(predictions_2)\n",
        "predictions_2 = pd.DataFrame({\"Product_Category\" : predictions_2})"
      ],
      "execution_count": 354,
      "outputs": []
    },
    {
      "cell_type": "code",
      "metadata": {
        "colab": {
          "base_uri": "https://localhost:8080/",
          "height": 1000
        },
        "id": "Z5RWGwCN6mSI",
        "outputId": "4f71a2d5-7525-4c84-88bd-822447c1f6d4"
      },
      "source": [
        "predictions_2"
      ],
      "execution_count": 356,
      "outputs": [
        {
          "output_type": "execute_result",
          "data": {
            "text/html": [
              "<div>\n",
              "<style scoped>\n",
              "    .dataframe tbody tr th:only-of-type {\n",
              "        vertical-align: middle;\n",
              "    }\n",
              "\n",
              "    .dataframe tbody tr th {\n",
              "        vertical-align: top;\n",
              "    }\n",
              "\n",
              "    .dataframe thead th {\n",
              "        text-align: right;\n",
              "    }\n",
              "</style>\n",
              "<table border=\"1\" class=\"dataframe\">\n",
              "  <thead>\n",
              "    <tr style=\"text-align: right;\">\n",
              "      <th></th>\n",
              "      <th>Product_Category</th>\n",
              "    </tr>\n",
              "  </thead>\n",
              "  <tbody>\n",
              "    <tr>\n",
              "      <th>0</th>\n",
              "      <td>Face Wash</td>\n",
              "    </tr>\n",
              "    <tr>\n",
              "      <th>1</th>\n",
              "      <td>Kit</td>\n",
              "    </tr>\n",
              "    <tr>\n",
              "      <th>2</th>\n",
              "      <td>Conditioner</td>\n",
              "    </tr>\n",
              "    <tr>\n",
              "      <th>3</th>\n",
              "      <td>Face Wash</td>\n",
              "    </tr>\n",
              "    <tr>\n",
              "      <th>4</th>\n",
              "      <td>Combo</td>\n",
              "    </tr>\n",
              "    <tr>\n",
              "      <th>5</th>\n",
              "      <td>Misc</td>\n",
              "    </tr>\n",
              "    <tr>\n",
              "      <th>6</th>\n",
              "      <td>Shampoo</td>\n",
              "    </tr>\n",
              "    <tr>\n",
              "      <th>7</th>\n",
              "      <td>Mask</td>\n",
              "    </tr>\n",
              "    <tr>\n",
              "      <th>8</th>\n",
              "      <td>Misc</td>\n",
              "    </tr>\n",
              "    <tr>\n",
              "      <th>9</th>\n",
              "      <td>Shampoo</td>\n",
              "    </tr>\n",
              "    <tr>\n",
              "      <th>10</th>\n",
              "      <td>Face Wash</td>\n",
              "    </tr>\n",
              "    <tr>\n",
              "      <th>11</th>\n",
              "      <td>Shampoo</td>\n",
              "    </tr>\n",
              "    <tr>\n",
              "      <th>12</th>\n",
              "      <td>Misc</td>\n",
              "    </tr>\n",
              "    <tr>\n",
              "      <th>13</th>\n",
              "      <td>Shampoo</td>\n",
              "    </tr>\n",
              "    <tr>\n",
              "      <th>14</th>\n",
              "      <td>Face Wash</td>\n",
              "    </tr>\n",
              "    <tr>\n",
              "      <th>15</th>\n",
              "      <td>Misc</td>\n",
              "    </tr>\n",
              "    <tr>\n",
              "      <th>16</th>\n",
              "      <td>Misc</td>\n",
              "    </tr>\n",
              "    <tr>\n",
              "      <th>17</th>\n",
              "      <td>Misc</td>\n",
              "    </tr>\n",
              "    <tr>\n",
              "      <th>18</th>\n",
              "      <td>Serum</td>\n",
              "    </tr>\n",
              "    <tr>\n",
              "      <th>19</th>\n",
              "      <td>Misc</td>\n",
              "    </tr>\n",
              "    <tr>\n",
              "      <th>20</th>\n",
              "      <td>Face Wash</td>\n",
              "    </tr>\n",
              "    <tr>\n",
              "      <th>21</th>\n",
              "      <td>Kit</td>\n",
              "    </tr>\n",
              "    <tr>\n",
              "      <th>22</th>\n",
              "      <td>Misc</td>\n",
              "    </tr>\n",
              "    <tr>\n",
              "      <th>23</th>\n",
              "      <td>Misc</td>\n",
              "    </tr>\n",
              "    <tr>\n",
              "      <th>24</th>\n",
              "      <td>Misc</td>\n",
              "    </tr>\n",
              "    <tr>\n",
              "      <th>25</th>\n",
              "      <td>Shampoo</td>\n",
              "    </tr>\n",
              "    <tr>\n",
              "      <th>26</th>\n",
              "      <td>Conditioner</td>\n",
              "    </tr>\n",
              "    <tr>\n",
              "      <th>27</th>\n",
              "      <td>Face Wash</td>\n",
              "    </tr>\n",
              "    <tr>\n",
              "      <th>28</th>\n",
              "      <td>Mask</td>\n",
              "    </tr>\n",
              "    <tr>\n",
              "      <th>29</th>\n",
              "      <td>Body Wash</td>\n",
              "    </tr>\n",
              "    <tr>\n",
              "      <th>30</th>\n",
              "      <td>Kit</td>\n",
              "    </tr>\n",
              "    <tr>\n",
              "      <th>31</th>\n",
              "      <td>Misc</td>\n",
              "    </tr>\n",
              "    <tr>\n",
              "      <th>32</th>\n",
              "      <td>Mask</td>\n",
              "    </tr>\n",
              "    <tr>\n",
              "      <th>33</th>\n",
              "      <td>Face Wash</td>\n",
              "    </tr>\n",
              "  </tbody>\n",
              "</table>\n",
              "</div>"
            ],
            "text/plain": [
              "   Product_Category\n",
              "0         Face Wash\n",
              "1               Kit\n",
              "2       Conditioner\n",
              "3         Face Wash\n",
              "4             Combo\n",
              "5              Misc\n",
              "6           Shampoo\n",
              "7              Mask\n",
              "8              Misc\n",
              "9           Shampoo\n",
              "10        Face Wash\n",
              "11          Shampoo\n",
              "12             Misc\n",
              "13          Shampoo\n",
              "14        Face Wash\n",
              "15             Misc\n",
              "16             Misc\n",
              "17             Misc\n",
              "18            Serum\n",
              "19             Misc\n",
              "20        Face Wash\n",
              "21              Kit\n",
              "22             Misc\n",
              "23             Misc\n",
              "24             Misc\n",
              "25          Shampoo\n",
              "26      Conditioner\n",
              "27        Face Wash\n",
              "28             Mask\n",
              "29        Body Wash\n",
              "30              Kit\n",
              "31             Misc\n",
              "32             Mask\n",
              "33        Face Wash"
            ]
          },
          "metadata": {
            "tags": []
          },
          "execution_count": 356
        }
      ]
    },
    {
      "cell_type": "markdown",
      "metadata": {
        "id": "-xP-BYgOkXI7"
      },
      "source": [
        "# Writing the Results in the Excel File"
      ]
    },
    {
      "cell_type": "code",
      "metadata": {
        "colab": {
          "base_uri": "https://localhost:8080/"
        },
        "id": "4zrrjkYpm5sv",
        "outputId": "9dd4110a-e51e-4759-cb8a-77406e61a425"
      },
      "source": [
        "!pip install xlsxwriter"
      ],
      "execution_count": 240,
      "outputs": [
        {
          "output_type": "stream",
          "text": [
            "Collecting xlsxwriter\n",
            "\u001b[?25l  Downloading https://files.pythonhosted.org/packages/2c/ce/74fd8d638a5b82ea0c6f08a5978f741c2655a38c3d6e82f73a0f084377e6/XlsxWriter-1.4.3-py2.py3-none-any.whl (149kB)\n",
            "\r\u001b[K     |██▏                             | 10kB 12.8MB/s eta 0:00:01\r\u001b[K     |████▍                           | 20kB 17.7MB/s eta 0:00:01\r\u001b[K     |██████▋                         | 30kB 17.7MB/s eta 0:00:01\r\u001b[K     |████████▊                       | 40kB 14.8MB/s eta 0:00:01\r\u001b[K     |███████████                     | 51kB 8.1MB/s eta 0:00:01\r\u001b[K     |█████████████▏                  | 61kB 7.6MB/s eta 0:00:01\r\u001b[K     |███████████████▍                | 71kB 8.5MB/s eta 0:00:01\r\u001b[K     |█████████████████▌              | 81kB 8.9MB/s eta 0:00:01\r\u001b[K     |███████████████████▊            | 92kB 8.6MB/s eta 0:00:01\r\u001b[K     |██████████████████████          | 102kB 7.7MB/s eta 0:00:01\r\u001b[K     |████████████████████████▏       | 112kB 7.7MB/s eta 0:00:01\r\u001b[K     |██████████████████████████▎     | 122kB 7.7MB/s eta 0:00:01\r\u001b[K     |████████████████████████████▌   | 133kB 7.7MB/s eta 0:00:01\r\u001b[K     |██████████████████████████████▊ | 143kB 7.7MB/s eta 0:00:01\r\u001b[K     |████████████████████████████████| 153kB 7.7MB/s \n",
            "\u001b[?25hInstalling collected packages: xlsxwriter\n",
            "Successfully installed xlsxwriter-1.4.3\n"
          ],
          "name": "stdout"
        }
      ]
    },
    {
      "cell_type": "code",
      "metadata": {
        "id": "XE2qiZ1bj_IO"
      },
      "source": [
        "import xlsxwriter\n",
        "writer = pd.ExcelWriter(\"/content/mamaearth_task_1.xlsx\", engine='xlsxwriter')\n",
        "\n",
        "# Write the final data in the Excel file\n",
        "mamaearth_final_data.to_excel(writer, sheet_name='MamaearthData', index=False)\n",
        "\n",
        "# Write the Results of the first classifaction task in the excel file\n",
        "predictions_1.to_excel(writer, sheet_name='KeyIngredients', index=False)\n",
        "model_metrics_1.to_excel(writer, sheet_name='KeyIngredientsClfMetrics', index=False)\n",
        "\n",
        "# Write the Results of the second classifaction task in the excel file\n",
        "predictions_2.to_excel(writer, sheet_name='ProductCategory', index=False)\n",
        "model_metrics_2.to_excel(writer, sheet_name='ProductCategoryClfMetrics', index=False)\n",
        "\n",
        "# Save the writer\n",
        "writer.save()"
      ],
      "execution_count": 357,
      "outputs": []
    }
  ]
}